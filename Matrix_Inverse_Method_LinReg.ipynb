{
  "nbformat": 4,
  "nbformat_minor": 0,
  "metadata": {
    "colab": {
      "name": "Matrix Inverse Method : LinReg",
      "version": "0.3.2",
      "provenance": [],
      "include_colab_link": true
    },
    "kernelspec": {
      "name": "python3",
      "display_name": "Python 3"
    }
  },
  "cells": [
    {
      "cell_type": "markdown",
      "metadata": {
        "id": "view-in-github",
        "colab_type": "text"
      },
      "source": [
        "[View in Colaboratory](https://colab.research.google.com/github/findingfoot/ML_practice-codes/blob/master/Matrix_Inverse_Method_LinReg.ipynb)"
      ]
    },
    {
      "metadata": {
        "id": "quDXVT_80RfT",
        "colab_type": "code",
        "colab": {}
      },
      "cell_type": "code",
      "source": [
        "import matplotlib.pyplot as plt\n",
        "import numpy as np\n",
        "import tensorflow as tf\n",
        "from tensorflow.python.framework import ops\n",
        "ops.reset_default_graph()\n",
        "\n",
        "sess = tf.Session()"
      ],
      "execution_count": 0,
      "outputs": []
    },
    {
      "metadata": {
        "id": "1lnlM9VM1UbK",
        "colab_type": "code",
        "colab": {}
      },
      "cell_type": "code",
      "source": [
        "x_vals = np.linspace(0, 10, 100)\n",
        "y_vals = x_vals + np.random.normal(0,1,100)"
      ],
      "execution_count": 0,
      "outputs": []
    },
    {
      "metadata": {
        "id": "6f2_iIJm17EX",
        "colab_type": "code",
        "colab": {}
      },
      "cell_type": "code",
      "source": [
        "x_vals_column = np.transpose(np.matrix(x_vals))\n",
        "ones_column = np.transpose(np.matrix(np.repeat(1, 100)))\n",
        "A = np.column_stack((x_vals_column, ones_column))\n"
      ],
      "execution_count": 0,
      "outputs": []
    },
    {
      "metadata": {
        "id": "Y-_T8ewq2tpV",
        "colab_type": "code",
        "colab": {}
      },
      "cell_type": "code",
      "source": [
        "y = np.transpose(np.matrix(y_vals))"
      ],
      "execution_count": 0,
      "outputs": []
    },
    {
      "metadata": {
        "id": "vlSf6Gi83JR8",
        "colab_type": "code",
        "colab": {}
      },
      "cell_type": "code",
      "source": [
        "#create tensor constants\n",
        "\n",
        "\n",
        "A_tensor = tf.constant(A)\n",
        "y_tensor = tf.constant(y)"
      ],
      "execution_count": 0,
      "outputs": []
    },
    {
      "metadata": {
        "id": "rl7NeQaE6wuu",
        "colab_type": "code",
        "colab": {}
      },
      "cell_type": "code",
      "source": [
        "ata = tf.matmul(tf.transpose(A_tensor), A_tensor)\n",
        "ata_inverse = tf.matrix_inverse(ata)\n",
        "\n",
        "product = tf.matmul(ata_inverse , tf.transpose(A_tensor))\n",
        "\n",
        "answer = tf.matmul(product, y_tensor)"
      ],
      "execution_count": 0,
      "outputs": []
    },
    {
      "metadata": {
        "id": "4vovkViY67bN",
        "colab_type": "code",
        "colab": {}
      },
      "cell_type": "code",
      "source": [
        "solution_eval = sess.run(answer)"
      ],
      "execution_count": 0,
      "outputs": []
    },
    {
      "metadata": {
        "id": "i9md-Tj9708r",
        "colab_type": "code",
        "colab": {
          "base_uri": "https://localhost:8080/",
          "height": 51
        },
        "outputId": "1e5c786f-71db-4212-812e-7bd73e954448"
      },
      "cell_type": "code",
      "source": [
        "slope = solution_eval[0][0]\n",
        "print('slope :', slope)\n",
        "y_intercept = solution_eval[1][0]\n",
        "print('y_intercept:  ', y_intercept)"
      ],
      "execution_count": 61,
      "outputs": [
        {
          "output_type": "stream",
          "text": [
            "slope : 1.0520089754144806\n",
            "y_intercept:   -0.25998807504506344\n"
          ],
          "name": "stdout"
        }
      ]
    },
    {
      "metadata": {
        "id": "fsr-MNo2BG10",
        "colab_type": "code",
        "colab": {}
      },
      "cell_type": "code",
      "source": [
        "#best fitting line\n",
        "\n",
        "best_fit = []\n",
        "for i in x_vals:\n",
        "  best_fit.append(slope*i+y_intercept)"
      ],
      "execution_count": 0,
      "outputs": []
    },
    {
      "metadata": {
        "id": "YgJslz_9B28k",
        "colab_type": "code",
        "colab": {
          "base_uri": "https://localhost:8080/",
          "height": 347
        },
        "outputId": "f72f6c1f-ef80-470b-d6b3-7b93d8955f06"
      },
      "cell_type": "code",
      "source": [
        "plt.plot(x_vals, y_vals, '*', label = 'Data')\n",
        "plt.plot(x_vals, best_fit, 'bo', label = 'Best fitting line' )\n",
        "\n",
        "plt.legend(loc='upper left')\n",
        "plt.show()"
      ],
      "execution_count": 63,
      "outputs": [
        {
          "output_type": "display_data",
          "data": {
            "image/png": "[encoded data removed]",
            "text/plain": [
              "<matplotlib.figure.Figure at 0x7fd67af7e160>"
            ]
          },
          "metadata": {
            "tags": []
          }
        }
      ]
    },
    {
      "metadata": {
        "id": "94odG667Cvzb",
        "colab_type": "code",
        "colab": {}
      },
      "cell_type": "code",
      "source": [
        ""
      ],
      "execution_count": 0,
      "outputs": []
    }
  ]
}