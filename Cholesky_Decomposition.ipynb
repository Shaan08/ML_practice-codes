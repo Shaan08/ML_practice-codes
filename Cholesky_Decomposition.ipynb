{
  "nbformat": 4,
  "nbformat_minor": 0,
  "metadata": {
    "colab": {
      "name": "Cholesky Decomposition.ipynb",
      "version": "0.3.2",
      "provenance": [],
      "include_colab_link": true
    },
    "kernelspec": {
      "display_name": "Python 3",
      "language": "python",
      "name": "python3"
    }
  },
  "cells": [
    {
      "cell_type": "markdown",
      "metadata": {
        "id": "view-in-github",
        "colab_type": "text"
      },
      "source": [
        "[View in Colaboratory](https://colab.research.google.com/github/findingfoot/ML_practice-codes/blob/master/Cholesky_Decomposition.ipynb)"
      ]
    },
    {
      "metadata": {
        "id": "TvPSnCYdXcxJ",
        "colab_type": "text"
      },
      "cell_type": "markdown",
      "source": [
        "This script will use TensorFlow's function, tf.cholesky() to decompose our design matrix and solve for the parameter matrix from linear regression.\n",
        "\n",
        "For linear regression we are given the system $A \\cdot x = y$. Here, $A$ is our design matrix, $x$ is our parameter matrix (of interest), and $y$ is our target matrix (dependent values).\n",
        "\n",
        "For a Cholesky decomposition to work we assume that $A$ can be broken up into a product of a lower triangular matrix, $L$ and the transpose of the same matrix, $L^{T}$.\n",
        "\n",
        "Note that this is when $A$ is square. Of course, with an over determined system, $A$ is not square. So we factor the product $A^{T} \\cdot A$ instead. We then assume:\n",
        "\n",
        "$$A^{T} \\cdot A = L^{T} \\cdot L$$\n",
        "For more information on the Cholesky decomposition and it's uses, see the following wikipedia link: The Cholesky Decomposition\n",
        "\n",
        "Given that $A$ has a unique Cholesky decomposition, we can write our linear regression system as the following:\n",
        "\n",
        "$$ L^{T} \\cdot L \\cdot x = A^{T} \\cdot y $$\n",
        "Then we break apart the system as follows:\n",
        "\n",
        "$$L^{T} \\cdot z = A^{T} \\cdot y$$\n",
        "and\n",
        "\n",
        "$$L \\cdot x = z$$\n",
        "The steps we will take to solve for $x$ are the following\n",
        "\n",
        "Compute the Cholesky decomposition of $A$, where $A^{T} \\cdot A = L^{T} \\cdot L$.\n",
        "\n",
        "Solve ($L^{T} \\cdot z = A^{T} \\cdot y$) for $z$.\n",
        "\n",
        "Finally, solve ($L \\cdot x = z$) for $x$.\n"
      ]
    },
    {
      "metadata": {
        "id": "mSvZEeeOXcxK",
        "colab_type": "code",
        "colab": {}
      },
      "cell_type": "code",
      "source": [
        "import matplotlib.pyplot as plt\n",
        "import numpy as np\n",
        "import tensorflow as tf\n",
        "from tensorflow.python.framework import ops\n",
        "ops.reset_default_graph()\n",
        "\n",
        "sess = tf.Session()"
      ],
      "execution_count": 0,
      "outputs": []
    },
    {
      "metadata": {
        "id": "jE0zqbTLXcxN",
        "colab_type": "code",
        "colab": {}
      },
      "cell_type": "code",
      "source": [
        "#Creating data\n",
        "\n",
        "x_vals = np.linspace(0,10, 100)\n",
        "y_vals = x_vals + np.random.normal(0, 1, 100)"
      ],
      "execution_count": 0,
      "outputs": []
    },
    {
      "metadata": {
        "id": "H1mjlyT_XcxP",
        "colab_type": "code",
        "colab": {}
      },
      "cell_type": "code",
      "source": [
        "#creating design matrix A\n",
        "\n",
        "x_vals_column = np.transpose(np.matrix(x_vals))\n",
        "ones_column = np.transpose(np.matrix(np.repeat(1, 100)))\n",
        "A = np.column_stack((x_vals_column, ones_column))\n"
      ],
      "execution_count": 0,
      "outputs": []
    },
    {
      "metadata": {
        "id": "6Gl1ureIXcxS",
        "colab_type": "code",
        "colab": {}
      },
      "cell_type": "code",
      "source": [
        "# create a y matrix\n",
        "\n",
        "y = np.transpose(np.matrix(y_vals))\n",
        "\n",
        "# create tensors\n",
        "\n",
        "A_tensor = tf.constant(A)\n",
        "y_tensor = tf.constant(y)"
      ],
      "execution_count": 0,
      "outputs": []
    },
    {
      "metadata": {
        "id": "lNrlvQkwXcxV",
        "colab_type": "code",
        "colab": {}
      },
      "cell_type": "code",
      "source": [
        "at = tf.matmul(tf.transpose(A_tensor), A_tensor)\n",
        "L = tf.cholesky(at)"
      ],
      "execution_count": 0,
      "outputs": []
    },
    {
      "metadata": {
        "id": "Fu0byYpxXcxY",
        "colab_type": "code",
        "colab": {}
      },
      "cell_type": "code",
      "source": [
        "aty = tf.matmul(tf.transpose(A_tensor), y)\n",
        "answer1 = tf.matrix_solve(L, aty)"
      ],
      "execution_count": 0,
      "outputs": []
    },
    {
      "metadata": {
        "id": "itU3kDhYXcxc",
        "colab_type": "code",
        "colab": {}
      },
      "cell_type": "code",
      "source": [
        "answer2 = tf.matrix_solve(tf.transpose(L), answer1)\n",
        "\n",
        "final_answer = sess.run(answer2)"
      ],
      "execution_count": 0,
      "outputs": []
    },
    {
      "metadata": {
        "id": "VPpEhBVQXcxg",
        "colab_type": "code",
        "colab": {
          "base_uri": "https://localhost:8080/",
          "height": 34
        },
        "outputId": "a3c2f4fa-f295-4246-cb88-6df8709015a1"
      },
      "cell_type": "code",
      "source": [
        "final_answer.shape"
      ],
      "execution_count": 10,
      "outputs": [
        {
          "output_type": "execute_result",
          "data": {
            "text/plain": [
              "(2, 1)"
            ]
          },
          "metadata": {
            "tags": []
          },
          "execution_count": 10
        }
      ]
    },
    {
      "metadata": {
        "id": "IHFBDDyOXcxk",
        "colab_type": "code",
        "colab": {
          "base_uri": "https://localhost:8080/",
          "height": 51
        },
        "outputId": "4aac14b8-ee8b-4932-9a9e-c036c38d8d79"
      },
      "cell_type": "code",
      "source": [
        "slope = final_answer[0][0]\n",
        "\n",
        "print('slope :', slope)\n",
        "intercept = final_answer[1][0]\n",
        "\n",
        "print('intercept : ', intercept)\n",
        "\n",
        "best_fit = []\n",
        "\n",
        "for i in x_vals:\n",
        "    best_fit.append(slope*i+intercept)\n",
        "    "
      ],
      "execution_count": 11,
      "outputs": [
        {
          "output_type": "stream",
          "text": [
            "slope : 1.059099328208515\n",
            "intercept :  -0.2274663633709576\n"
          ],
          "name": "stdout"
        }
      ]
    },
    {
      "metadata": {
        "id": "WWOxQQHUXcxo",
        "colab_type": "code",
        "colab": {
          "base_uri": "https://localhost:8080/",
          "height": 347
        },
        "outputId": "64e41d91-b6df-4578-a7c0-4d47739feb3b"
      },
      "cell_type": "code",
      "source": [
        "plt.plot(x_vals, y_vals, '*', label = 'data')\n",
        "plt.plot(x_vals, best_fit, '-', label = 'best fit line', linewidth = 4)\n",
        "plt.legend(loc = 'best')\n",
        "plt.show()"
      ],
      "execution_count": 12,
      "outputs": [
        {
          "output_type": "display_data",
          "data": {
            "image/png": "[encoded data removed]",
            "text/plain": [
              "<matplotlib.figure.Figure at 0x7fa2a3216278>"
            ]
          },
          "metadata": {
            "tags": []
          }
        }
      ]
    },
    {
      "metadata": {
        "id": "S6CQB329Xcxq",
        "colab_type": "code",
        "colab": {}
      },
      "cell_type": "code",
      "source": [
        ""
      ],
      "execution_count": 0,
      "outputs": []
    }
  ]
}