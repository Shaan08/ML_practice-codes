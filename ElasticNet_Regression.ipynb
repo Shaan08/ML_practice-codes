{
  "nbformat": 4,
  "nbformat_minor": 0,
  "metadata": {
    "colab": {
      "name": "ElasticNet Regression.ipynb",
      "version": "0.3.2",
      "provenance": [],
      "include_colab_link": true
    },
    "kernelspec": {
      "display_name": "Python 3",
      "language": "python",
      "name": "python3"
    }
  },
  "cells": [
    {
      "cell_type": "markdown",
      "metadata": {
        "id": "view-in-github",
        "colab_type": "text"
      },
      "source": [
        "[View in Colaboratory](https://colab.research.google.com/github/findingfoot/ML_practice-codes/blob/master/ElasticNet_Regression.ipynb)"
      ]
    },
    {
      "metadata": {
        "id": "uxOfvWHJbLfY",
        "colab_type": "code",
        "colab": {}
      },
      "cell_type": "code",
      "source": [
        "import warnings\n",
        "warnings.filterwarnings('ignore')\n",
        "\n",
        "import numpy as np\n",
        "from sklearn import datasets\n",
        "import matplotlib.pyplot as plt\n",
        "import tensorflow as tf\n",
        "from tensorflow.python.framework import ops\n",
        "import jupyterthemes as jt\n",
        "from jupyterthemes import jtplot\n",
        "\n",
        "jtplot.style(context='talk', fscale=1.4, spines=False, gridlines='--')\n"
      ],
      "execution_count": 0,
      "outputs": []
    },
    {
      "metadata": {
        "id": "Me1qrCBwbLfc",
        "colab_type": "code",
        "colab": {}
      },
      "cell_type": "code",
      "source": [
        "ops.reset_default_graph()\n",
        "\n",
        "sess = tf.Session()"
      ],
      "execution_count": 0,
      "outputs": []
    },
    {
      "metadata": {
        "id": "X0iXccxtbLff",
        "colab_type": "code",
        "colab": {}
      },
      "cell_type": "code",
      "source": [
        "iris = datasets.load_iris()\n",
        "\n",
        "x_vals = np.array([[x[1],x[2],x[3]]for x in iris.data])\n",
        "y_vals = np.array([y[0] for y in iris.data])"
      ],
      "execution_count": 0,
      "outputs": []
    },
    {
      "metadata": {
        "id": "xpG8ySCSbLfi",
        "colab_type": "code",
        "colab": {},
        "outputId": "c0d0259e-0f83-4198-ad3a-3e8214a662ee"
      },
      "cell_type": "code",
      "source": [
        "y_vals.shape"
      ],
      "execution_count": 0,
      "outputs": [
        {
          "output_type": "execute_result",
          "data": {
            "text/plain": [
              "(150,)"
            ]
          },
          "metadata": {
            "tags": []
          },
          "execution_count": 34
        }
      ]
    },
    {
      "metadata": {
        "id": "FFb-vQgebLfm",
        "colab_type": "code",
        "colab": {},
        "outputId": "9892d061-3f77-48f0-8ba4-c33d621f9c29"
      },
      "cell_type": "code",
      "source": [
        "x_vals.shape"
      ],
      "execution_count": 0,
      "outputs": [
        {
          "output_type": "execute_result",
          "data": {
            "text/plain": [
              "(150, 3)"
            ]
          },
          "metadata": {
            "tags": []
          },
          "execution_count": 35
        }
      ]
    },
    {
      "metadata": {
        "id": "Ev35E9fzbLfr",
        "colab_type": "code",
        "colab": {}
      },
      "cell_type": "code",
      "source": [
        "#reproducible experiment\n",
        "\n",
        "seed = 23\n",
        "np.random.seed(seed)\n",
        "tf.set_random_seed(seed)\n",
        "\n",
        "#batch size for sampling\n",
        "\n",
        "batch_size = 25\n",
        "\n",
        "# Initialize placeholders\n",
        "x_data = tf.placeholder(shape=[None, 3], dtype=tf.float32)\n",
        "y_target = tf.placeholder(shape=[None, 1], dtype=tf.float32)\n",
        "\n",
        "# Create variables for linear regression\n",
        "A = tf.Variable(tf.random_normal(shape=[3,1]))\n",
        "b = tf.Variable(tf.random_normal(shape=[1,1]))\n",
        "\n",
        "# Declare model operations\n",
        "model_output = tf.add(tf.matmul(x_data, A), b)"
      ],
      "execution_count": 0,
      "outputs": []
    },
    {
      "metadata": {
        "id": "iC977SubbLft",
        "colab_type": "code",
        "colab": {}
      },
      "cell_type": "code",
      "source": [
        "#elastic net functions\n",
        "elastic_param1 = tf.constant(1.)\n",
        "elastic_param2 = tf.constant(1.)\n",
        "l1_a_loss = tf.reduce_mean(tf.abs(A))\n",
        "l2_a_loss = tf.reduce_mean(tf.square(A))\n",
        "e1_term = tf.multiply(elastic_param1, l1_a_loss)\n",
        "e2_term = tf.multiply(elastic_param2, l2_a_loss)\n",
        "loss = tf.expand_dims(tf.add(tf.add(tf.reduce_mean(tf.square(y_target - model_output)), e1_term), e2_term), 0)\n",
        "\n",
        "# Declare optimizer\n",
        "my_opt = tf.train.GradientDescentOptimizer(0.001)\n",
        "train_step = my_opt.minimize(loss)"
      ],
      "execution_count": 0,
      "outputs": []
    },
    {
      "metadata": {
        "id": "QXRVPiqQbLfx",
        "colab_type": "code",
        "colab": {},
        "outputId": "d8b33d7a-afd5-4bef-b5a2-60b7d106679d"
      },
      "cell_type": "code",
      "source": [
        "init = tf.global_variables_initializer()\n",
        "sess.run(init)\n",
        "\n",
        "loss_vec = []\n",
        "for i in range(1000):\n",
        "    rand_index = np.random.choice(len(x_vals), size=batch_size)\n",
        "    rand_x = x_vals[rand_index]\n",
        "    rand_y = np.transpose([y_vals[rand_index]])\n",
        "    sess.run(train_step, feed_dict={x_data: rand_x, y_target: rand_y})\n",
        "    temp_loss = sess.run(loss, feed_dict={x_data: rand_x, y_target: rand_y})\n",
        "    loss_vec.append(temp_loss[0])\n",
        "    if (i+1)%250==0:\n",
        "        print('Step #' + str(i+1) + ' A = ' + str(sess.run(A)) + ' b = ' + str(sess.run(b)))\n",
        "        print('Loss = ' + str(temp_loss))"
      ],
      "execution_count": 0,
      "outputs": [
        {
          "output_type": "stream",
          "text": [
            "Step #250 A = [[ 1.043953 ]\n",
            " [ 0.7656784]\n",
            " [-0.4545521]] b = [[0.19809929]]\n",
            "Loss = [1.5382824]\n",
            "Step #500 A = [[ 0.9996503 ]\n",
            " [ 0.7216429 ]\n",
            " [-0.27722332]] b = [[0.2719072]]\n",
            "Loss = [1.3190886]\n",
            "Step #750 A = [[ 0.97789437]\n",
            " [ 0.665024  ]\n",
            " [-0.13911475]] b = [[0.3498316]]\n",
            "Loss = [1.204214]\n",
            "Step #1000 A = [[ 0.96432596]\n",
            " [ 0.61651206]\n",
            " [-0.02501614]] b = [[0.4293345]]\n",
            "Loss = [1.1889515]\n"
          ],
          "name": "stdout"
        }
      ]
    },
    {
      "metadata": {
        "id": "kIMW-QQ-bLf1",
        "colab_type": "code",
        "colab": {},
        "outputId": "34d13b09-0e9c-4c95-8e20-b583b1664186"
      },
      "cell_type": "code",
      "source": [
        "print(sess.run(A))"
      ],
      "execution_count": 0,
      "outputs": [
        {
          "output_type": "stream",
          "text": [
            "[[ 0.96432596]\n",
            " [ 0.61651206]\n",
            " [-0.02501614]]\n"
          ],
          "name": "stdout"
        }
      ]
    },
    {
      "metadata": {
        "id": "lnRn3aOSbLf4",
        "colab_type": "code",
        "colab": {}
      },
      "cell_type": "code",
      "source": [
        "[[sw_coef], [pl_coef], [pw_ceof]] = sess.run(A)\n",
        "[y_intercept] = sess.run(b)"
      ],
      "execution_count": 0,
      "outputs": []
    },
    {
      "metadata": {
        "id": "YMPtg2uhbLf7",
        "colab_type": "code",
        "colab": {},
        "outputId": "40013588-96ca-4072-8aba-137046266959"
      },
      "cell_type": "code",
      "source": [
        "plt.plot(loss_vec, 'b-')\n",
        "plt.title('Loss per Generation')\n",
        "plt.xlabel('Generation')\n",
        "plt.ylabel('Loss')\n",
        "plt.show()\n"
      ],
      "execution_count": 0,
      "outputs": [
        {
          "output_type": "display_data",
          "data": {
            "image/png": "[encoded data removed]",
            "text/plain": [
              "<Figure size 748.8x655.2 with 1 Axes>"
            ]
          },
          "metadata": {
            "tags": []
          }
        }
      ]
    },
    {
      "metadata": {
        "id": "rCBNiBW6bLf_",
        "colab_type": "code",
        "colab": {}
      },
      "cell_type": "code",
      "source": [
        ""
      ],
      "execution_count": 0,
      "outputs": []
    }
  ]
}