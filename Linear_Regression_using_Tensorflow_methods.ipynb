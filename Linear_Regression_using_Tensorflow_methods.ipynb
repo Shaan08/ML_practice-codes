{
  "nbformat": 4,
  "nbformat_minor": 0,
  "metadata": {
    "colab": {
      "name": "Linear Regression using Tensorflow methods.ipynb",
      "version": "0.3.2",
      "provenance": [],
      "include_colab_link": true
    },
    "kernelspec": {
      "display_name": "Python 3",
      "language": "python",
      "name": "python3"
    }
  },
  "cells": [
    {
      "cell_type": "markdown",
      "metadata": {
        "id": "view-in-github",
        "colab_type": "text"
      },
      "source": [
        "[View in Colaboratory](https://colab.research.google.com/github/findingfoot/ML_practice-codes/blob/master/Linear_Regression_using_Tensorflow_methods.ipynb)"
      ]
    },
    {
      "metadata": {
        "id": "9Y0k1CJAbFpK",
        "colab_type": "code",
        "colab": {}
      },
      "cell_type": "code",
      "source": [
        "import matplotlib.pyplot as plt\n",
        "import numpy as np\n",
        "import tensorflow as tf\n",
        "from sklearn import datasets\n",
        "from tensorflow.python.framework import ops\n",
        "ops.reset_default_graph()\n",
        "\n",
        "sess = tf.Session()"
      ],
      "execution_count": 0,
      "outputs": []
    },
    {
      "metadata": {
        "id": "0c6_I_tUbFpN",
        "colab_type": "code",
        "colab": {}
      },
      "cell_type": "code",
      "source": [
        "iris = datasets.load_iris()"
      ],
      "execution_count": 0,
      "outputs": []
    },
    {
      "metadata": {
        "id": "vAAPFXJKbFpQ",
        "colab_type": "code",
        "colab": {
          "base_uri": "https://localhost:8080/",
          "height": 34
        },
        "outputId": "859348fc-e669-49f4-9db9-19f3875abfd8"
      },
      "cell_type": "code",
      "source": [
        "'''\n",
        "iris.data = [(Sepal Length, Sepal Width, Petal Length, Petal Width)]\n",
        "equation to solve : y = Ax+b\n",
        "where x is the petal width and y is the sepal length\n",
        "'''"
      ],
      "execution_count": 14,
      "outputs": [
        {
          "output_type": "execute_result",
          "data": {
            "text/plain": [
              "'\\niris.data = [(Sepal Length, Sepal Width, Petal Length, Petal Width)]\\nequation to solve : y = Ax+b\\nwhere x is the petal width and y is the sepal length\\n'"
            ]
          },
          "metadata": {
            "tags": []
          },
          "execution_count": 14
        }
      ]
    },
    {
      "metadata": {
        "id": "jzEri3hPbFpV",
        "colab_type": "code",
        "colab": {}
      },
      "cell_type": "code",
      "source": [
        "x_vals = np.array([x[3] for x in iris.data]) # petal width\n",
        "y_vals = np.array([x[0] for x in iris.data]) #sepal length\n"
      ],
      "execution_count": 0,
      "outputs": []
    },
    {
      "metadata": {
        "id": "GrsAG-pRbFpZ",
        "colab_type": "code",
        "colab": {}
      },
      "cell_type": "code",
      "source": [
        "# we need a batch size\n",
        "\n",
        "batch_size = 25"
      ],
      "execution_count": 0,
      "outputs": []
    },
    {
      "metadata": {
        "id": "L5QCUAB-bFpb",
        "colab_type": "code",
        "colab": {}
      },
      "cell_type": "code",
      "source": [
        "#placeholder for the data and target\n",
        "\n",
        "x_data = tf.placeholder(shape = [None, 1], dtype=tf.float32)\n",
        "y_target = tf.placeholder(shape = [None, 1], dtype = tf.float32)\n",
        "\n",
        "#We also need variables like A and b in our case here\n",
        "\n",
        "A = tf.Variable(tf.random_normal(shape = [1,1]))\n",
        "b = tf.Variable(tf.random_normal(shape = [1,1]))\n"
      ],
      "execution_count": 0,
      "outputs": []
    },
    {
      "metadata": {
        "id": "jm2xMKorbFpe",
        "colab_type": "code",
        "colab": {}
      },
      "cell_type": "code",
      "source": [
        "#Model operations\n",
        "\n",
        "model_output = tf.add((tf.matmul(x_data, A)), b)\n",
        "\n",
        "#Loss function\n",
        "\n",
        "l2_loss = tf.reduce_mean(tf.square(y_target - model_output))"
      ],
      "execution_count": 0,
      "outputs": []
    },
    {
      "metadata": {
        "id": "RlEnBj81bFph",
        "colab_type": "code",
        "colab": {}
      },
      "cell_type": "code",
      "source": [
        "#optimizer\n",
        "\n",
        "my_opt = tf.train.GradientDescentOptimizer(0.05)\n",
        "train_step = my_opt.minimize(l2_loss)\n",
        "\n",
        "#initialize the variables\n",
        "\n",
        "init = tf.global_variables_initializer()\n",
        "sess.run(init)\n"
      ],
      "execution_count": 0,
      "outputs": []
    },
    {
      "metadata": {
        "id": "3Pa_TpOAbFpl",
        "colab_type": "code",
        "colab": {
          "base_uri": "https://localhost:8080/",
          "height": 1361
        },
        "outputId": "4660e9ca-7344-46fc-867b-ead3c7743822"
      },
      "cell_type": "code",
      "source": [
        "loss_vector = []\n",
        "\n",
        "for i in range(1000):\n",
        "    #sample as per random index\n",
        "    rand_index = np.random.choice(len(x_vals), size = batch_size)\n",
        "    rand_x = np.transpose([x_vals[rand_index]])\n",
        "    rand_y = np.transpose([y_vals[rand_index]])\n",
        "    sess.run(train_step, feed_dict={x_data: rand_x, y_target: rand_y})\n",
        "    temp_loss = sess.run(l2_loss, feed_dict={x_data: rand_x, y_target: rand_y})\n",
        "    loss_vector.append(temp_loss)\n",
        "    \n",
        "    if (i+1)%25==0:\n",
        "        print('Step #' + str(i+1) + ' A = ' + str(sess.run(A)) + ' b = ' + str(sess.run(b)))\n",
        "        print('Loss = ' + str(temp_loss))\n",
        "    \n",
        "    "
      ],
      "execution_count": 20,
      "outputs": [
        {
          "output_type": "stream",
          "text": [
            "Step #25 A = [[2.34237]] b = [[2.5913007]]\n",
            "Loss = 1.0144306\n",
            "Step #50 A = [[1.7711542]] b = [[3.465657]]\n",
            "Loss = 0.5359219\n",
            "Step #75 A = [[1.423761]] b = [[3.9814718]]\n",
            "Loss = 0.558417\n",
            "Step #100 A = [[1.2070905]] b = [[4.3078203]]\n",
            "Loss = 0.30198285\n",
            "Step #125 A = [[1.0880425]] b = [[4.507597]]\n",
            "Loss = 0.21153334\n",
            "Step #150 A = [[1.0064967]] b = [[4.6152673]]\n",
            "Loss = 0.18788351\n",
            "Step #175 A = [[0.91395944]] b = [[4.631683]]\n",
            "Loss = 0.1477041\n",
            "Step #200 A = [[0.9352536]] b = [[4.721365]]\n",
            "Loss = 0.18652512\n",
            "Step #225 A = [[0.89625907]] b = [[4.7320967]]\n",
            "Loss = 0.13185547\n",
            "Step #250 A = [[0.9223785]] b = [[4.795795]]\n",
            "Loss = 0.3294193\n",
            "Step #275 A = [[0.873888]] b = [[4.76685]]\n",
            "Loss = 0.291084\n",
            "Step #300 A = [[0.85589397]] b = [[4.7463593]]\n",
            "Loss = 0.21633221\n",
            "Step #325 A = [[0.89396]] b = [[4.779248]]\n",
            "Loss = 0.21653606\n",
            "Step #350 A = [[0.8710071]] b = [[4.795076]]\n",
            "Loss = 0.21667017\n",
            "Step #375 A = [[0.86467993]] b = [[4.7959995]]\n",
            "Loss = 0.22252329\n",
            "Step #400 A = [[0.84367716]] b = [[4.762362]]\n",
            "Loss = 0.24059218\n",
            "Step #425 A = [[0.86512387]] b = [[4.778721]]\n",
            "Loss = 0.13867094\n",
            "Step #450 A = [[0.885249]] b = [[4.775]]\n",
            "Loss = 0.25168422\n",
            "Step #475 A = [[0.9148889]] b = [[4.7981443]]\n",
            "Loss = 0.2164056\n",
            "Step #500 A = [[0.92455655]] b = [[4.807083]]\n",
            "Loss = 0.21168348\n",
            "Step #525 A = [[0.90490836]] b = [[4.7823906]]\n",
            "Loss = 0.18644913\n",
            "Step #550 A = [[0.8971978]] b = [[4.7719226]]\n",
            "Loss = 0.17216893\n",
            "Step #575 A = [[0.8939495]] b = [[4.773812]]\n",
            "Loss = 0.21007115\n",
            "Step #600 A = [[0.9220313]] b = [[4.777717]]\n",
            "Loss = 0.20752619\n",
            "Step #625 A = [[0.88686466]] b = [[4.7510824]]\n",
            "Loss = 0.081844874\n",
            "Step #650 A = [[0.90389633]] b = [[4.7539606]]\n",
            "Loss = 0.21085481\n",
            "Step #675 A = [[0.85642123]] b = [[4.7545404]]\n",
            "Loss = 0.12614375\n",
            "Step #700 A = [[0.88820684]] b = [[4.7718925]]\n",
            "Loss = 0.26675376\n",
            "Step #725 A = [[0.9106097]] b = [[4.793571]]\n",
            "Loss = 0.23871261\n",
            "Step #750 A = [[0.8607259]] b = [[4.769209]]\n",
            "Loss = 0.19055837\n",
            "Step #775 A = [[0.89512396]] b = [[4.804136]]\n",
            "Loss = 0.2635075\n",
            "Step #800 A = [[0.8873187]] b = [[4.797283]]\n",
            "Loss = 0.21122101\n",
            "Step #825 A = [[0.8690828]] b = [[4.766322]]\n",
            "Loss = 0.3014283\n",
            "Step #850 A = [[0.8976701]] b = [[4.744492]]\n",
            "Loss = 0.23936851\n",
            "Step #875 A = [[0.88189137]] b = [[4.7660184]]\n",
            "Loss = 0.3102078\n",
            "Step #900 A = [[0.89035517]] b = [[4.7799416]]\n",
            "Loss = 0.13402708\n",
            "Step #925 A = [[0.8477341]] b = [[4.7518473]]\n",
            "Loss = 0.35632527\n",
            "Step #950 A = [[0.85912144]] b = [[4.80549]]\n",
            "Loss = 0.115894176\n",
            "Step #975 A = [[0.84526503]] b = [[4.800888]]\n",
            "Loss = 0.15125369\n",
            "Step #1000 A = [[0.89420193]] b = [[4.80094]]\n",
            "Loss = 0.15618609\n"
          ],
          "name": "stdout"
        }
      ]
    },
    {
      "metadata": {
        "id": "AbZIDoqGbFpp",
        "colab_type": "code",
        "colab": {}
      },
      "cell_type": "code",
      "source": [
        "[slope] = sess.run(A)\n",
        "[intercept] = sess.run(b)\n",
        "\n",
        "#best fit line\n",
        "best_fit = []\n",
        "for i in x_vals:\n",
        "    best_fit.append(slope*i+intercept)"
      ],
      "execution_count": 0,
      "outputs": []
    },
    {
      "metadata": {
        "id": "IWsyRAmkbQW0",
        "colab_type": "code",
        "colab": {
          "base_uri": "https://localhost:8080/",
          "height": 1179
        },
        "outputId": "42339757-4489-4918-e7b7-1dd2d12684e5"
      },
      "cell_type": "code",
      "source": [
        "!pip install jupyterthemes"
      ],
      "execution_count": 23,
      "outputs": [
        {
          "output_type": "stream",
          "text": [
            "Collecting jupyterthemes\n",
            "\u001b[?25l  Downloading https://files.pythonhosted.org/packages/4f/01/44ae9402942d64f70acd10868a92e82eeda5dcaffc10e28af87191633401/jupyterthemes-0.19.6-py2.py3-none-any.whl (7.0MB)\n",
            "\u001b[K    100% |████████████████████████████████| 7.0MB 4.0MB/s \n",
            "\u001b[?25hRequirement already satisfied: ipython>=5.4.1 in /usr/local/lib/python3.6/dist-packages (from jupyterthemes) (5.5.0)\n",
            "Requirement already satisfied: jupyter-core in /usr/local/lib/python3.6/dist-packages (from jupyterthemes) (4.4.0)\n",
            "Collecting lesscpy>=0.11.2 (from jupyterthemes)\n",
            "\u001b[?25l  Downloading https://files.pythonhosted.org/packages/10/d0/fdd9874972e07ae8727a3d26b433891d8605b96999ea99bbf506e756a7b1/lesscpy-0.13.0-py2.py3-none-any.whl (48kB)\n",
            "\u001b[K    100% |████████████████████████████████| 51kB 16.6MB/s \n",
            "\u001b[?25hRequirement already satisfied: matplotlib>=1.4.3 in /usr/local/lib/python3.6/dist-packages (from jupyterthemes) (2.1.2)\n",
            "Collecting notebook>=5.6.0 (from jupyterthemes)\n",
            "\u001b[?25l  Downloading https://files.pythonhosted.org/packages/44/16/9f108b675828c4117cfe72d8d0f97094163c40584e40c46ec48a1e862693/notebook-5.7.0-py2.py3-none-any.whl (9.0MB)\n",
            "\u001b[K    100% |████████████████████████████████| 9.0MB 2.8MB/s \n",
            "\u001b[?25hRequirement already satisfied: simplegeneric>0.8 in /usr/local/lib/python3.6/dist-packages (from ipython>=5.4.1->jupyterthemes) (0.8.1)\n",
            "Requirement already satisfied: pickleshare in /usr/local/lib/python3.6/dist-packages (from ipython>=5.4.1->jupyterthemes) (0.7.4)\n",
            "Requirement already satisfied: decorator in /usr/local/lib/python3.6/dist-packages (from ipython>=5.4.1->jupyterthemes) (4.3.0)\n",
            "Requirement already satisfied: traitlets>=4.2 in /usr/local/lib/python3.6/dist-packages (from ipython>=5.4.1->jupyterthemes) (4.3.2)\n",
            "Requirement already satisfied: pygments in /usr/local/lib/python3.6/dist-packages (from ipython>=5.4.1->jupyterthemes) (2.1.3)\n",
            "Requirement already satisfied: prompt-toolkit<2.0.0,>=1.0.4 in /usr/local/lib/python3.6/dist-packages (from ipython>=5.4.1->jupyterthemes) (1.0.15)\n",
            "Requirement already satisfied: pexpect; sys_platform != \"win32\" in /usr/local/lib/python3.6/dist-packages (from ipython>=5.4.1->jupyterthemes) (4.6.0)\n",
            "Requirement already satisfied: setuptools>=18.5 in /usr/local/lib/python3.6/dist-packages (from ipython>=5.4.1->jupyterthemes) (39.1.0)\n",
            "Requirement already satisfied: six in /usr/local/lib/python3.6/dist-packages (from lesscpy>=0.11.2->jupyterthemes) (1.11.0)\n",
            "Collecting ply (from lesscpy>=0.11.2->jupyterthemes)\n",
            "\u001b[?25l  Downloading https://files.pythonhosted.org/packages/a3/58/35da89ee790598a0700ea49b2a66594140f44dec458c07e8e3d4979137fc/ply-3.11-py2.py3-none-any.whl (49kB)\n",
            "\u001b[K    100% |████████████████████████████████| 51kB 18.1MB/s \n",
            "\u001b[?25hRequirement already satisfied: cycler>=0.10 in /usr/local/lib/python3.6/dist-packages (from matplotlib>=1.4.3->jupyterthemes) (0.10.0)\n",
            "Requirement already satisfied: numpy>=1.7.1 in /usr/local/lib/python3.6/dist-packages (from matplotlib>=1.4.3->jupyterthemes) (1.14.5)\n",
            "Requirement already satisfied: python-dateutil>=2.1 in /usr/local/lib/python3.6/dist-packages (from matplotlib>=1.4.3->jupyterthemes) (2.5.3)\n",
            "Requirement already satisfied: pyparsing!=2.0.4,!=2.1.2,!=2.1.6,>=2.0.1 in /usr/local/lib/python3.6/dist-packages (from matplotlib>=1.4.3->jupyterthemes) (2.2.1)\n",
            "Requirement already satisfied: pytz in /usr/local/lib/python3.6/dist-packages (from matplotlib>=1.4.3->jupyterthemes) (2018.5)\n",
            "Requirement already satisfied: tornado>=4 in /usr/local/lib/python3.6/dist-packages (from notebook>=5.6.0->jupyterthemes) (4.5.3)\n",
            "Requirement already satisfied: jupyter-client>=5.2.0 in /usr/local/lib/python3.6/dist-packages (from notebook>=5.6.0->jupyterthemes) (5.2.3)\n",
            "Requirement already satisfied: nbconvert in /usr/local/lib/python3.6/dist-packages (from notebook>=5.6.0->jupyterthemes) (5.4.0)\n",
            "Requirement already satisfied: terminado>=0.8.1 in /usr/local/lib/python3.6/dist-packages (from notebook>=5.6.0->jupyterthemes) (0.8.1)\n",
            "Requirement already satisfied: ipython-genutils in /usr/local/lib/python3.6/dist-packages (from notebook>=5.6.0->jupyterthemes) (0.2.0)\n",
            "Requirement already satisfied: ipykernel in /usr/local/lib/python3.6/dist-packages (from notebook>=5.6.0->jupyterthemes) (4.6.1)\n",
            "Requirement already satisfied: jinja2 in /usr/local/lib/python3.6/dist-packages (from notebook>=5.6.0->jupyterthemes) (2.10)\n",
            "Collecting Send2Trash (from notebook>=5.6.0->jupyterthemes)\n",
            "  Downloading https://files.pythonhosted.org/packages/49/46/c3dc27481d1cc57b9385aff41c474ceb7714f7935b1247194adae45db714/Send2Trash-1.5.0-py3-none-any.whl\n",
            "Requirement already satisfied: nbformat in /usr/local/lib/python3.6/dist-packages (from notebook>=5.6.0->jupyterthemes) (4.4.0)\n",
            "Collecting prometheus-client (from notebook>=5.6.0->jupyterthemes)\n",
            "  Downloading https://files.pythonhosted.org/packages/a1/b1/08de091b392fec31da9bd3f5edd9214ec1c6931dd81641610ac20f3ff934/prometheus_client-0.3.1.tar.gz\n",
            "Collecting pyzmq>=17 (from notebook>=5.6.0->jupyterthemes)\n",
            "\u001b[?25l  Downloading https://files.pythonhosted.org/packages/48/93/59592cb294761aaa40589b544eaa5175446d687ff95beeeb666de60f3274/pyzmq-17.1.2-cp36-cp36m-manylinux1_x86_64.whl (998kB)\n",
            "\u001b[K    100% |████████████████████████████████| 1.0MB 19.3MB/s \n",
            "\u001b[?25hRequirement already satisfied: wcwidth in /usr/local/lib/python3.6/dist-packages (from prompt-toolkit<2.0.0,>=1.0.4->ipython>=5.4.1->jupyterthemes) (0.1.7)\n",
            "Requirement already satisfied: ptyprocess>=0.5 in /usr/local/lib/python3.6/dist-packages (from pexpect; sys_platform != \"win32\"->ipython>=5.4.1->jupyterthemes) (0.6.0)\n",
            "Requirement already satisfied: pandocfilters>=1.4.1 in /usr/local/lib/python3.6/dist-packages (from nbconvert->notebook>=5.6.0->jupyterthemes) (1.4.2)\n",
            "Requirement already satisfied: bleach in /usr/local/lib/python3.6/dist-packages (from nbconvert->notebook>=5.6.0->jupyterthemes) (2.1.4)\n",
            "Requirement already satisfied: testpath in /usr/local/lib/python3.6/dist-packages (from nbconvert->notebook>=5.6.0->jupyterthemes) (0.3.1)\n",
            "Requirement already satisfied: mistune>=0.8.1 in /usr/local/lib/python3.6/dist-packages (from nbconvert->notebook>=5.6.0->jupyterthemes) (0.8.3)\n",
            "Requirement already satisfied: entrypoints>=0.2.2 in /usr/local/lib/python3.6/dist-packages (from nbconvert->notebook>=5.6.0->jupyterthemes) (0.2.3)\n",
            "Requirement already satisfied: defusedxml in /usr/local/lib/python3.6/dist-packages (from nbconvert->notebook>=5.6.0->jupyterthemes) (0.5.0)\n",
            "Requirement already satisfied: MarkupSafe>=0.23 in /usr/local/lib/python3.6/dist-packages (from jinja2->notebook>=5.6.0->jupyterthemes) (1.0)\n",
            "Requirement already satisfied: jsonschema!=2.5.0,>=2.4 in /usr/local/lib/python3.6/dist-packages (from nbformat->notebook>=5.6.0->jupyterthemes) (2.6.0)\n",
            "Requirement already satisfied: html5lib!=1.0b1,!=1.0b2,!=1.0b3,!=1.0b4,!=1.0b5,!=1.0b6,!=1.0b7,!=1.0b8,>=0.99999999pre in /usr/local/lib/python3.6/dist-packages (from bleach->nbconvert->notebook>=5.6.0->jupyterthemes) (1.0.1)\n",
            "Requirement already satisfied: webencodings in /usr/local/lib/python3.6/dist-packages (from html5lib!=1.0b1,!=1.0b2,!=1.0b3,!=1.0b4,!=1.0b5,!=1.0b6,!=1.0b7,!=1.0b8,>=0.99999999pre->bleach->nbconvert->notebook>=5.6.0->jupyterthemes) (0.5.1)\n",
            "Building wheels for collected packages: prometheus-client\n",
            "  Running setup.py bdist_wheel for prometheus-client ... \u001b[?25l-\b \bdone\n",
            "\u001b[?25h  Stored in directory: /root/.cache/pip/wheels/04/6b/a4/4ccef2edcc797b5553edc6c8bed4d219dafdb019e225c2c348\n",
            "Successfully built prometheus-client\n",
            "Installing collected packages: ply, lesscpy, Send2Trash, prometheus-client, pyzmq, notebook, jupyterthemes\n",
            "  Found existing installation: pyzmq 16.0.4\n",
            "    Uninstalling pyzmq-16.0.4:\n",
            "      Successfully uninstalled pyzmq-16.0.4\n",
            "  Found existing installation: notebook 5.2.2\n",
            "    Uninstalling notebook-5.2.2:\n",
            "      Successfully uninstalled notebook-5.2.2\n",
            "Successfully installed Send2Trash-1.5.0 jupyterthemes-0.19.6 lesscpy-0.13.0 notebook-5.7.0 ply-3.11 prometheus-client-0.3.1 pyzmq-17.1.2\n"
          ],
          "name": "stdout"
        }
      ]
    },
    {
      "metadata": {
        "id": "PTyDPjQcbFps",
        "colab_type": "code",
        "colab": {}
      },
      "cell_type": "code",
      "source": [
        "from jupyterthemes import jtplot\n",
        "\n",
        "jtplot.style()\n",
        "\n",
        "jtplot.style(theme='solarizedd')"
      ],
      "execution_count": 0,
      "outputs": []
    },
    {
      "metadata": {
        "id": "HMdH6Ga2bFpv",
        "colab_type": "code",
        "colab": {
          "base_uri": "https://localhost:8080/",
          "height": 389
        },
        "outputId": "6005fd5f-3bef-4ceb-c638-4d493840120a"
      },
      "cell_type": "code",
      "source": [
        "plt.plot(x_vals, y_vals, 'r*' , label = 'Data')\n",
        "plt.plot(x_vals, best_fit, 'go', label = 'Best fit line', linewidth = 3)\n",
        "plt.legend(loc = 'best')\n",
        "plt.title('Sepal Length vs petal width')\n",
        "plt.xlabel('Petal width')\n",
        "plt.ylabel('Sepal length')\n",
        "plt.show()"
      ],
      "execution_count": 25,
      "outputs": [
        {
          "output_type": "display_data",
          "data": {
            "image/png": "[encoded data removed]",
            "text/plain": [
              "<matplotlib.figure.Figure at 0x7fbf60059b38>"
            ]
          },
          "metadata": {
            "tags": []
          }
        }
      ]
    },
    {
      "metadata": {
        "id": "4pPNnW08bUn9",
        "colab_type": "code",
        "colab": {}
      },
      "cell_type": "code",
      "source": [
        ""
      ],
      "execution_count": 0,
      "outputs": []
    }
  ]
}