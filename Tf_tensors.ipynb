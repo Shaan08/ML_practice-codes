{
  "nbformat": 4,
  "nbformat_minor": 0,
  "metadata": {
    "colab": {
      "name": "Tf tensors ",
      "version": "0.3.2",
      "provenance": [],
      "include_colab_link": true
    },
    "kernelspec": {
      "display_name": "Python 3",
      "language": "python",
      "name": "python3"
    }
  },
  "cells": [
    {
      "cell_type": "markdown",
      "metadata": {
        "id": "view-in-github",
        "colab_type": "text"
      },
      "source": [
        "[View in Colaboratory](https://colab.research.google.com/github/pk1412/ML_practice-codes/blob/master/Tf_tensors.ipynb)"
      ]
    },
    {
      "metadata": {
        "id": "THGodcKIBiua",
        "colab_type": "code",
        "colab": {}
      },
      "cell_type": "code",
      "source": [
        "'''\n",
        "loading the tensorflow and resetting the tesorflow graph\n",
        "\n",
        "'''\n",
        "import tensorflow as tf\n",
        "from tensorflow.python.framework import ops\n",
        "ops.reset_default_graph()"
      ],
      "execution_count": 0,
      "outputs": []
    },
    {
      "metadata": {
        "id": "0CeWZP97Biud",
        "colab_type": "code",
        "colab": {}
      },
      "cell_type": "code",
      "source": [
        "''' Starting a graph session or the instance of tensorflow'''\n",
        "\n",
        "sess = tf.Session()"
      ],
      "execution_count": 0,
      "outputs": []
    },
    {
      "metadata": {
        "id": "tQbXynehBiuh",
        "colab_type": "code",
        "colab": {},
        "outputId": "8b067f0d-4e02-4fd5-906e-d8c9078871b8"
      },
      "cell_type": "code",
      "source": [
        "#Initialize any tensor\n",
        "var_tensor = tf.zeros((5,3))\n",
        "\n",
        "\n",
        "#evaluating tensor with run method.\n",
        "sess.run(var_tensor)"
      ],
      "execution_count": 0,
      "outputs": [
        {
          "output_type": "execute_result",
          "data": {
            "text/plain": [
              "array([[0., 0., 0.],\n",
              "       [0., 0., 0.],\n",
              "       [0., 0., 0.],\n",
              "       [0., 0., 0.],\n",
              "       [0., 0., 0.]], dtype=float32)"
            ]
          },
          "metadata": {
            "tags": []
          },
          "execution_count": 14
        }
      ]
    },
    {
      "metadata": {
        "id": "1J11tIgvBium",
        "colab_type": "code",
        "colab": {},
        "outputId": "c9832f59-942c-4727-e7fb-9fbc4085cd67"
      },
      "cell_type": "code",
      "source": [
        "#Creating a variable \n",
        "\n",
        "my_var = tf.Variable(var_tensor)\n",
        "\n",
        "\n",
        "# Can't run the session without initializing the variable\n",
        "\n",
        "sess.run(my_var.initializer)\n",
        "sess.run(my_var)"
      ],
      "execution_count": 0,
      "outputs": [
        {
          "output_type": "execute_result",
          "data": {
            "text/plain": [
              "array([[0., 0., 0.],\n",
              "       [0., 0., 0.],\n",
              "       [0., 0., 0.],\n",
              "       [0., 0., 0.],\n",
              "       [0., 0., 0.]], dtype=float32)"
            ]
          },
          "metadata": {
            "tags": []
          },
          "execution_count": 21
        }
      ]
    },
    {
      "metadata": {
        "id": "kaNsfw6EBiuq",
        "colab_type": "code",
        "colab": {}
      },
      "cell_type": "code",
      "source": [
        "#Using row and column dim to initialize the tensor\n",
        "\n",
        "row = 4\n",
        "col = 3\n",
        "\n",
        "zero_var = tf.Variable(tf.zeros([row,col]))\n",
        "one_var = tf.Variable(tf.ones([row,col]))\n",
        "\n",
        "sess.run(zero_var.initializer)\n",
        "sess.run(one_var.initializer)\n",
        "print(sess.run(zero_var))\n",
        "print(sess.run(one_var))"
      ],
      "execution_count": 0,
      "outputs": []
    },
    {
      "metadata": {
        "id": "_gCOm5Z2Bius",
        "colab_type": "code",
        "colab": {},
        "outputId": "81ef9ae0-a9dc-4a47-9fac-ee41aa68f057"
      },
      "cell_type": "code",
      "source": [
        "x = tf.random_normal(shape=[5,3])\n",
        "sess.run(x)"
      ],
      "execution_count": 0,
      "outputs": [
        {
          "output_type": "execute_result",
          "data": {
            "text/plain": [
              "array([[ 0.49772677, -0.3120493 ,  1.0765785 ],\n",
              "       [ 0.08036355, -0.7488156 ,  0.13051528],\n",
              "       [ 0.53373986,  0.06046211, -1.3452994 ],\n",
              "       [ 0.98806655,  2.0260167 ,  0.7473453 ],\n",
              "       [ 0.2670394 ,  0.39922017, -2.693671  ]], dtype=float32)"
            ]
          },
          "metadata": {
            "tags": []
          },
          "execution_count": 37
        }
      ]
    },
    {
      "metadata": {
        "id": "qSUAo2A0Biuw",
        "colab_type": "code",
        "colab": {},
        "outputId": "63beacdb-e82e-47a3-8eaf-4c892e9ea437"
      },
      "cell_type": "code",
      "source": [
        "\n",
        "'''\n",
        "Filling variable with a constant\n",
        "'''\n",
        "\n",
        "fill_var = tf.Variable(tf.fill([row,col],-3))\n",
        "sess.run(fill_var.initializer)\n",
        "\n",
        "print(sess.run(fill_var))"
      ],
      "execution_count": 0,
      "outputs": [
        {
          "output_type": "stream",
          "text": [
            "[[-3 -3 -3]\n",
            " [-3 -3 -3]\n",
            " [-3 -3 -3]\n",
            " [-3 -3 -3]]\n"
          ],
          "name": "stdout"
        }
      ]
    },
    {
      "metadata": {
        "id": "a0lG7BR2Biu0",
        "colab_type": "code",
        "colab": {},
        "outputId": "d5b5d71a-a651-4e01-c272-9e1cad238326"
      },
      "cell_type": "code",
      "source": [
        "fill_const_var = tf.Variable(tf.constant([5,2,6,3,76,7,1,4,6,2,6,7,2,5,7,]))\n",
        "fill_const_var = tf.Variable(tf.constant([3,5,3,3,2,5,6,23,6,23,6,12], shape = [row,col]))\n",
        "\n",
        "sess.run(fill_const_var.initializer)\n",
        "print(sess.run(fill_const_var))"
      ],
      "execution_count": 0,
      "outputs": [
        {
          "output_type": "stream",
          "text": [
            "[[ 3  5  3]\n",
            " [ 3  2  5]\n",
            " [ 6 23  6]\n",
            " [23  6 12]]\n"
          ],
          "name": "stdout"
        }
      ]
    },
    {
      "metadata": {
        "id": "6JvXg7ajBiu5",
        "colab_type": "code",
        "colab": {},
        "outputId": "c007a298-7826-4e95-d57d-2c6c2c2f03b3"
      },
      "cell_type": "code",
      "source": [
        "'''\n",
        "creating tensor from sequence generation function\n",
        "\n",
        "'''\n",
        "\n",
        "linear_var = tf.Variable(tf.linspace(1.,2.,15))\n",
        "\n",
        "sess.run(linear_var.initializer)\n",
        "\n",
        "sess.run(linear_var)\n",
        "\n",
        "\n",
        "\n",
        "#range in tensorflow\n",
        "\n",
        "range_var = tf.Variable(tf.range(1,21,3))\n",
        "sess.run(range_var.initializer)\n",
        "sess.run(range_var)"
      ],
      "execution_count": 0,
      "outputs": [
        {
          "output_type": "execute_result",
          "data": {
            "text/plain": [
              "array([ 1,  4,  7, 10, 13, 16, 19])"
            ]
          },
          "metadata": {
            "tags": []
          },
          "execution_count": 62
        }
      ]
    },
    {
      "metadata": {
        "id": "4XoBkJUSBiu9",
        "colab_type": "code",
        "colab": {},
        "outputId": "37398829-6244-43ee-c87f-717197266a42"
      },
      "cell_type": "code",
      "source": [
        "rnom_var = tf.random_normal([row,col])\n",
        "\n",
        "sess.run(rnom_var)"
      ],
      "execution_count": 0,
      "outputs": [
        {
          "output_type": "execute_result",
          "data": {
            "text/plain": [
              "array([[ 2.7632418 , -0.1216739 , -1.2532767 ],\n",
              "       [ 0.4536211 ,  0.87878615, -0.26912996],\n",
              "       [-0.6570371 , -0.6466841 ,  0.6818237 ],\n",
              "       [-0.56409496,  1.1443977 , -0.7503979 ]], dtype=float32)"
            ]
          },
          "metadata": {
            "tags": []
          },
          "execution_count": 65
        }
      ]
    },
    {
      "metadata": {
        "id": "ujhYxPpcBivB",
        "colab_type": "code",
        "colab": {},
        "outputId": "97b934ee-a82f-4982-d180-df4251862734"
      },
      "cell_type": "code",
      "source": [
        "#reset the graph\n",
        "\n",
        "ops.reset_default_graph()\n",
        "\n",
        "\n",
        "#start the graph session\n",
        "\n",
        "sess = tf.Session()\n",
        "\n",
        "#create variable\n",
        "\n",
        "temp_var = tf.Variable(tf.lin_space(2.,6.,3))\n",
        "\n",
        "\n",
        "#adding summaries to tensorboard\n",
        "\n",
        "merged = tf.summary.merge_all()\n",
        "\n",
        "# intialize the graph writer\n",
        "\n",
        "writer = tf.summary.FileWriter('/tmp/variable_logs', graph = sess.graph)\n",
        "\n",
        "# intialize the operation\n",
        "\n",
        "initializer_op = tf.global_variables_initializer()\n",
        "\n",
        "#run initialization of variable\n",
        "\n",
        "sess.run(initializer_op)\n",
        "\n",
        "\n",
        "\n",
        "'''\n",
        "Run command :   tensorboard --logdir=/tmp\n",
        "\n",
        "URL: http://localhost:6006\n",
        "\n",
        "'''"
      ],
      "execution_count": 0,
      "outputs": [
        {
          "output_type": "execute_result",
          "data": {
            "text/plain": [
              "'\\nRun command :   tensorboard --logdir=/tmp\\n\\nURL: http://localhost:6006\\n\\n'"
            ]
          },
          "metadata": {
            "tags": []
          },
          "execution_count": 73
        }
      ]
    },
    {
      "metadata": {
        "id": "8ax5sM8JBivH",
        "colab_type": "code",
        "colab": {}
      },
      "cell_type": "code",
      "source": [
        "\n",
        "\n"
      ],
      "execution_count": 0,
      "outputs": []
    }
  ]
}