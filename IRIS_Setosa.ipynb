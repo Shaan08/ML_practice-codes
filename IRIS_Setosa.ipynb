{
  "nbformat": 4,
  "nbformat_minor": 0,
  "metadata": {
    "colab": {
      "name": "IRIS Setosa",
      "version": "0.3.2",
      "provenance": [],
      "include_colab_link": true
    },
    "kernelspec": {
      "name": "python3",
      "display_name": "Python 3"
    }
  },
  "cells": [
    {
      "cell_type": "markdown",
      "metadata": {
        "id": "view-in-github",
        "colab_type": "text"
      },
      "source": [
        "[View in Colaboratory](https://colab.research.google.com/github/findingfoot/ML_practice-codes/blob/master/IRIS_Setosa.ipynb)"
      ]
    },
    {
      "metadata": {
        "id": "lPo_cJ06lYlX",
        "colab_type": "code",
        "colab": {}
      },
      "cell_type": "code",
      "source": [
        "import tensorflow as tf\n",
        "import numpy as np\n",
        "import matplotlib.pyplot as plt\n",
        "from sklearn import datasets\n",
        "from tensorflow.python.framework import ops\n",
        "ops.reset_default_graph()"
      ],
      "execution_count": 0,
      "outputs": []
    },
    {
      "metadata": {
        "id": "Msaekql8lsv_",
        "colab_type": "code",
        "colab": {}
      },
      "cell_type": "code",
      "source": [
        "iris = datasets.load_iris()\n",
        "binary_target = np.array([1. if x==0 else 0. for x in iris.target])\n",
        "\n",
        "iris_2d = np.array([[x[2], x[3]] for x in iris.data])"
      ],
      "execution_count": 0,
      "outputs": []
    },
    {
      "metadata": {
        "id": "zzvguf4Ql6yh",
        "colab_type": "code",
        "colab": {
          "base_uri": "https://localhost:8080/",
          "height": 136
        },
        "outputId": "57ce146d-5dc8-410c-bee2-1ce9a45c6a71"
      },
      "cell_type": "code",
      "source": [
        "print(binary_target)"
      ],
      "execution_count": 62,
      "outputs": [
        {
          "output_type": "stream",
          "text": [
            "[1. 1. 1. 1. 1. 1. 1. 1. 1. 1. 1. 1. 1. 1. 1. 1. 1. 1. 1. 1. 1. 1. 1. 1.\n",
            " 1. 1. 1. 1. 1. 1. 1. 1. 1. 1. 1. 1. 1. 1. 1. 1. 1. 1. 1. 1. 1. 1. 1. 1.\n",
            " 1. 1. 0. 0. 0. 0. 0. 0. 0. 0. 0. 0. 0. 0. 0. 0. 0. 0. 0. 0. 0. 0. 0. 0.\n",
            " 0. 0. 0. 0. 0. 0. 0. 0. 0. 0. 0. 0. 0. 0. 0. 0. 0. 0. 0. 0. 0. 0. 0. 0.\n",
            " 0. 0. 0. 0. 0. 0. 0. 0. 0. 0. 0. 0. 0. 0. 0. 0. 0. 0. 0. 0. 0. 0. 0. 0.\n",
            " 0. 0. 0. 0. 0. 0. 0. 0. 0. 0. 0. 0. 0. 0. 0. 0. 0. 0. 0. 0. 0. 0. 0. 0.\n",
            " 0. 0. 0. 0. 0. 0.]\n"
          ],
          "name": "stdout"
        }
      ]
    },
    {
      "metadata": {
        "id": "vFE3YwuOmHig",
        "colab_type": "code",
        "colab": {}
      },
      "cell_type": "code",
      "source": [
        "batch_size = 20\n",
        "\n",
        "sess= tf.Session()"
      ],
      "execution_count": 0,
      "outputs": []
    },
    {
      "metadata": {
        "id": "pPuTTa57mIXw",
        "colab_type": "code",
        "colab": {}
      },
      "cell_type": "code",
      "source": [
        "#Placeholder\n",
        "\n",
        "x1_data = tf.placeholder(shape = [None, 1], dtype = tf.float32)\n",
        "x2_data = tf.placeholder(shape = [None,1], dtype = tf.float32)\n",
        "y_target = tf.placeholder(shape=[None,1], dtype= tf.float32)"
      ],
      "execution_count": 0,
      "outputs": []
    },
    {
      "metadata": {
        "id": "qFBGA2pttlrF",
        "colab_type": "code",
        "colab": {}
      },
      "cell_type": "code",
      "source": [
        "#Model variables linear regression\n",
        "\n",
        "A = tf.Variable(tf.random_normal(shape = [1,1]))\n",
        "b = tf.Variable(tf.random_normal(shape = [1,1]))"
      ],
      "execution_count": 0,
      "outputs": []
    },
    {
      "metadata": {
        "id": "ajJh_1P-uwWb",
        "colab_type": "code",
        "colab": {}
      },
      "cell_type": "code",
      "source": [
        "# Add model to graph:\n",
        "# x1 - A*x2 + b\n",
        "\n",
        "my_mult = tf.matmul(x2_data, A)\n",
        "my_add = tf.add(my_mult, b)\n",
        "my_output = tf.subtract(x1_data, my_add)"
      ],
      "execution_count": 0,
      "outputs": []
    },
    {
      "metadata": {
        "id": "XwdrIPVXxE5_",
        "colab_type": "code",
        "colab": {}
      },
      "cell_type": "code",
      "source": [
        "#loss\n",
        "\n",
        "cross_entropy_loss = tf.nn.sigmoid_cross_entropy_with_logits(logits = my_output, labels = y_target)"
      ],
      "execution_count": 0,
      "outputs": []
    },
    {
      "metadata": {
        "id": "J4HZoTe3xVcf",
        "colab_type": "code",
        "colab": {}
      },
      "cell_type": "code",
      "source": [
        "#optimizer\n",
        "\n",
        "my_opt = tf.train.GradientDescentOptimizer(0.02)\n",
        "train_step = my_opt.minimize(cross_entropy_loss)\n",
        "\n",
        "init = tf.global_variables_initializer()\n",
        "sess.run(init)"
      ],
      "execution_count": 0,
      "outputs": []
    },
    {
      "metadata": {
        "id": "1cMjGSwPylXt",
        "colab_type": "code",
        "colab": {}
      },
      "cell_type": "code",
      "source": [
        "for i in range(1000):\n",
        "  rand_index = np.random.choice(len(iris_2d), size=batch_size)\n",
        "  rand_x = iris_2d[rand_index]\n",
        "  rand_x1 = np.array([[x[0]] for x in rand_x])\n",
        "  rand_x2 = np.array([[x[1]] for x in rand_x])\n",
        "  rand_y = np.array([[y] for y in binary_target[rand_index]])\n",
        "  sess.run(train_step, feed_dict = {x1_data: rand_x1, x2_data: rand_x2, y_target: rand_y})\n",
        "  \n",
        "    "
      ],
      "execution_count": 0,
      "outputs": []
    },
    {
      "metadata": {
        "id": "3wEgjdtMzewk",
        "colab_type": "code",
        "colab": {
          "base_uri": "https://localhost:8080/",
          "height": 400
        },
        "outputId": "64095a0a-b6c4-4a3c-a970-13f2180506b4"
      },
      "cell_type": "code",
      "source": [
        "[[slope]] = sess.run(A)\n",
        "\n",
        "[[intercept]] = sess.run(b)\n",
        "\n",
        "x = np.linspace(0, 7, num=50)\n",
        "ablineValues = []\n",
        "for i in x:\n",
        "  ablineValues.append(slope*i+intercept)\n",
        "  \n",
        "  \n",
        "setosa_x = [a[1] for i,a in enumerate(iris_2d) if binary_target[i]==1]\n",
        "setosa_y = [a[0] for i,a in enumerate(iris_2d) if binary_target[i]==1]\n",
        "non_setosa_x = [a[1] for i,a in enumerate(iris_2d) if binary_target[i]==0]\n",
        "non_setosa_y = [a[0] for i,a in enumerate(iris_2d) if binary_target[i]==0]\n",
        "\n",
        "plt.plot(setosa_x, setosa_y, 'rx', ms=10, mew=2, label='setosa')\n",
        "plt.plot(non_setosa_x, non_setosa_y, 'ro', label='Non-setosa')\n",
        "plt.plot(x, ablineValues, 'b-')\n",
        "plt.xlim([0.0, 2.7])\n",
        "plt.ylim([0.0, 7.1])\n",
        "plt.suptitle('Linear Classification of Setosa Vs Non-Setosa', fontsize=20)\n",
        "plt.xlabel('Petal Length')\n",
        "plt.ylabel('Petal Width')\n",
        "plt.legend(loc='lower right')\n",
        "plt.show()"
      ],
      "execution_count": 82,
      "outputs": [
        {
          "output_type": "display_data",
          "data": {
            "image/png": "[encoded data removed]",
            "text/plain": [
              "<matplotlib.figure.Figure at 0x7eff928b60b8>"
            ]
          },
          "metadata": {
            "tags": []
          }
        }
      ]
    },
    {
      "metadata": {
        "id": "Hixu0LUD__vC",
        "colab_type": "code",
        "colab": {}
      },
      "cell_type": "code",
      "source": [
        ""
      ],
      "execution_count": 0,
      "outputs": []
    }
  ]
}