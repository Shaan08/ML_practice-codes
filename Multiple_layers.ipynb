{
  "nbformat": 4,
  "nbformat_minor": 0,
  "metadata": {
    "colab": {
      "name": "Multiple layers",
      "version": "0.3.2",
      "provenance": [],
      "include_colab_link": true
    },
    "kernelspec": {
      "name": "python3",
      "display_name": "Python 3"
    }
  },
  "cells": [
    {
      "cell_type": "markdown",
      "metadata": {
        "id": "view-in-github",
        "colab_type": "text"
      },
      "source": [
        "[View in Colaboratory](https://colab.research.google.com/github/findingfoot/ML_practice-codes/blob/master/Multiple_layers.ipynb)"
      ]
    },
    {
      "metadata": {
        "id": "CtkBiT7Nkx8g",
        "colab_type": "code",
        "colab": {}
      },
      "cell_type": "code",
      "source": [
        "import os\n",
        "import tensorflow as tf\n",
        "import numpy as np\n",
        "import matplotlib.pyplot as plt\n",
        "from PIL import Image\n",
        "from tensorflow.python.framework import ops\n",
        "ops.reset_default_graph()\n",
        "import warnings\n",
        "warnings.filterwarnings('ignore')\n",
        "\n",
        "sess= tf.Session()"
      ],
      "execution_count": 0,
      "outputs": []
    },
    {
      "metadata": {
        "id": "GUswfadckz6-",
        "colab_type": "code",
        "colab": {}
      },
      "cell_type": "code",
      "source": [
        "#creating an image of size 4x4\n",
        "\n",
        "x_shape = [1,4,4,1]\n",
        "x_val = np.random.uniform(size = x_shape)"
      ],
      "execution_count": 0,
      "outputs": []
    },
    {
      "metadata": {
        "id": "Hp7tQVCUlHis",
        "colab_type": "code",
        "colab": {}
      },
      "cell_type": "code",
      "source": [
        "x_data = tf.placeholder(tf.float32, shape = x_shape)"
      ],
      "execution_count": 0,
      "outputs": []
    },
    {
      "metadata": {
        "id": "5SqWQZforCVN",
        "colab_type": "code",
        "colab": {}
      },
      "cell_type": "code",
      "source": [
        "#Sliding convolution window. Stride 2 and size [2x2]\n",
        "\n",
        "my_filter = tf.constant(0.25, shape = [2,2,1,1])\n",
        "my_strides = [1,2,2,1]\n",
        "\n",
        "mov_win = tf.nn.conv2d(x_data, my_filter, my_strides, padding = 'SAME', name = \"Conv_Window\")"
      ],
      "execution_count": 0,
      "outputs": []
    },
    {
      "metadata": {
        "id": "9JPffdui3VJs",
        "colab_type": "code",
        "colab": {}
      },
      "cell_type": "code",
      "source": [
        "# Define a custom layer which will be sigmoid(Ax+b) where\n",
        "# x is a 2x2 matrix and A and b are 2x2 matrices\n",
        "def custom_layer(input_matrix):\n",
        "    input_matrix_sqeezed = tf.squeeze(input_matrix)\n",
        "    A = tf.constant([[1., 2.], [-1., 3.]])\n",
        "    b = tf.constant(1., shape=[2, 2])\n",
        "    temp1 = tf.matmul(A, input_matrix_sqeezed)\n",
        "    temp = tf.add(temp1, b) # Ax + b\n",
        "    return(tf.sigmoid(temp))\n",
        "  \n",
        "with tf.name_scope('Custom_Layer') as scope:\n",
        "    custom_layer1 = custom_layer(mov_win)"
      ],
      "execution_count": 0,
      "outputs": []
    },
    {
      "metadata": {
        "id": "g5HgHVzG31yU",
        "colab_type": "code",
        "colab": {
          "base_uri": "https://localhost:8080/",
          "height": 102
        },
        "outputId": "06918789-a0a1-4f7a-f8d3-9d9b51722527"
      },
      "cell_type": "code",
      "source": [
        "print(sess.run(mov_win, feed_dict = {x_data:x_val}))"
      ],
      "execution_count": 33,
      "outputs": [
        {
          "output_type": "stream",
          "text": [
            "[[[[0.40685707]\n",
            "   [0.75601745]]\n",
            "\n",
            "  [[0.45605925]\n",
            "   [0.3971504 ]]]]\n"
          ],
          "name": "stdout"
        }
      ]
    },
    {
      "metadata": {
        "id": "SQdHQFqz4IHb",
        "colab_type": "code",
        "colab": {
          "base_uri": "https://localhost:8080/",
          "height": 51
        },
        "outputId": "bf5d3886-4b5b-4c4b-938e-7fc25333e4bc"
      },
      "cell_type": "code",
      "source": [
        "print(sess.run(custom_layer1, feed_dict={x_data: x_val}))"
      ],
      "execution_count": 34,
      "outputs": [
        {
          "output_type": "stream",
          "text": [
            "[[0.9104364 0.9275949]\n",
            " [0.8766758 0.8077466]]\n"
          ],
          "name": "stdout"
        }
      ]
    },
    {
      "metadata": {
        "id": "rMBvs-hm4V7S",
        "colab_type": "code",
        "colab": {}
      },
      "cell_type": "code",
      "source": [
        ""
      ],
      "execution_count": 0,
      "outputs": []
    }
  ]
}