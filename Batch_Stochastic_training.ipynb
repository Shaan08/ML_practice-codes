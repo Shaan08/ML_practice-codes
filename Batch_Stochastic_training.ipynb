{
  "nbformat": 4,
  "nbformat_minor": 0,
  "metadata": {
    "colab": {
      "name": "Batch_Stochastic training.ipynb",
      "version": "0.3.2",
      "provenance": [],
      "include_colab_link": true
    },
    "kernelspec": {
      "display_name": "Python 3",
      "language": "python",
      "name": "python3"
    }
  },
  "cells": [
    {
      "cell_type": "markdown",
      "metadata": {
        "id": "view-in-github",
        "colab_type": "text"
      },
      "source": [
        "[View in Colaboratory](https://colab.research.google.com/github/findingfoot/ML_practice-codes/blob/master/Batch_Stochastic_training.ipynb)"
      ]
    },
    {
      "metadata": {
        "id": "-oaXQYfrj3PN",
        "colab_type": "code",
        "colab": {},
        "outputId": "47dfe761-9601-47de-fd59-7a84aff0c4c3"
      },
      "cell_type": "code",
      "source": [
        "import os\n",
        "import tensorflow as tf\n",
        "import numpy as np\n",
        "import matplotlib.pyplot as plt\n",
        "from PIL import Image\n",
        "from tensorflow.python.framework import ops\n",
        "ops.reset_default_graph()\n",
        "import warnings\n",
        "warnings.filterwarnings('ignore')\n",
        "\n",
        "sess= tf.Session()"
      ],
      "execution_count": 0,
      "outputs": [
        {
          "output_type": "stream",
          "text": [
            "C:\\Users\\ezarpkm\\AppData\\Local\\Continuum\\anaconda3\\lib\\site-packages\\h5py\\__init__.py:36: FutureWarning: Conversion of the second argument of issubdtype from `float` to `np.floating` is deprecated. In future, it will be treated as `np.float64 == np.dtype(float).type`.\n",
            "  from ._conv import register_converters as _register_converters\n"
          ],
          "name": "stderr"
        }
      ]
    },
    {
      "metadata": {
        "id": "M2EubBK7j3PT",
        "colab_type": "code",
        "colab": {}
      },
      "cell_type": "code",
      "source": [
        "#data\n",
        "x_vals = np.random.normal(1, 0.1, 100)\n",
        "y_vals = np.repeat(10., 100)\n",
        "\n",
        "\n",
        "x_data = tf.placeholder(shape = [1], dtype = tf.float32)\n",
        "y_target = tf.placeholder(shape = [1], dtype = tf.float32)\n",
        "\n",
        "\n",
        "#creating a variable\n",
        "\n",
        "A = tf.Variable(tf.random_normal(shape = [1]))\n",
        "\n",
        "#adding operation\n",
        "\n",
        "out = tf.multiply(x_data, A)\n",
        "\n",
        "#loss function calculation\n",
        "\n",
        "l2_loss = tf.square(out - y_target)"
      ],
      "execution_count": 0,
      "outputs": []
    },
    {
      "metadata": {
        "id": "fS2VAPcoj3PW",
        "colab_type": "code",
        "colab": {}
      },
      "cell_type": "code",
      "source": [
        "# Create Optimizer\n",
        "my_opt = tf.train.GradientDescentOptimizer(0.02)\n",
        "train_step = my_opt.minimize(l2_loss)\n",
        "\n",
        "# Initialize variables\n",
        "init = tf.global_variables_initializer()\n",
        "sess.run(init)"
      ],
      "execution_count": 0,
      "outputs": []
    },
    {
      "metadata": {
        "id": "J2KuNJihj3PZ",
        "colab_type": "code",
        "colab": {},
        "outputId": "0597eb39-3df4-4634-a91d-6bb1bb633e6a"
      },
      "cell_type": "code",
      "source": [
        "loss_stochastic = []\n",
        "# Run Loop\n",
        "for i in range(100):\n",
        "    rand_index = np.random.choice(100)\n",
        "    rand_x = [x_vals[rand_index]]\n",
        "    rand_y = [y_vals[rand_index]]\n",
        "    sess.run(train_step, feed_dict={x_data: rand_x, y_target: rand_y})\n",
        "    if (i+1)%5==0:\n",
        "        print('Step #' + str(i+1) + ' A = ' + str(sess.run(A)))\n",
        "        temp_loss = sess.run(l2_loss, feed_dict={x_data: rand_x, y_target: rand_y})\n",
        "        \n",
        "        print('Loss = ' + str(temp_loss))\n",
        "        loss_stochastic.append(temp_loss)\n",
        "        "
      ],
      "execution_count": 0,
      "outputs": [
        {
          "output_type": "stream",
          "text": [
            "Step #5 A = [9.700568]\n",
            "Loss = [0.28679043]\n",
            "Step #10 A = [9.83091]\n",
            "Loss = [0.3545396]\n",
            "Step #15 A = [9.881208]\n",
            "Loss = [0.7911214]\n",
            "Step #20 A = [9.956696]\n",
            "Loss = [2.81026]\n",
            "Step #25 A = [9.875797]\n",
            "Loss = [0.26811323]\n",
            "Step #30 A = [9.918067]\n",
            "Loss = [0.6764831]\n",
            "Step #35 A = [9.973673]\n",
            "Loss = [0.71374506]\n",
            "Step #40 A = [9.966955]\n",
            "Loss = [0.3759139]\n",
            "Step #45 A = [9.881361]\n",
            "Loss = [0.3594559]\n",
            "Step #50 A = [9.954575]\n",
            "Loss = [0.02071103]\n",
            "Step #55 A = [9.919907]\n",
            "Loss = [1.202606]\n",
            "Step #60 A = [9.96219]\n",
            "Loss = [1.7218628]\n",
            "Step #65 A = [9.947964]\n",
            "Loss = [0.6928855]\n",
            "Step #70 A = [10.128842]\n",
            "Loss = [1.6972461]\n",
            "Step #75 A = [9.941806]\n",
            "Loss = [0.63300353]\n",
            "Step #80 A = [9.9746685]\n",
            "Loss = [0.55780774]\n",
            "Step #85 A = [10.020423]\n",
            "Loss = [1.6210481]\n",
            "Step #90 A = [10.099862]\n",
            "Loss = [1.7517246]\n",
            "Step #95 A = [9.930061]\n",
            "Loss = [0.88365656]\n",
            "Step #100 A = [9.8804]\n",
            "Loss = [0.12965332]\n"
          ],
          "name": "stdout"
        }
      ]
    },
    {
      "metadata": {
        "id": "Ms7oHpguj3Pd",
        "colab_type": "code",
        "colab": {},
        "outputId": "8c113cc9-e9d5-41ba-b39d-b1a2b95e4bbc"
      },
      "cell_type": "code",
      "source": [
        "plt.plot(range(0, 100, 5), loss_stochastic, 'b-', label='Stochastic Loss')"
      ],
      "execution_count": 0,
      "outputs": [
        {
          "output_type": "execute_result",
          "data": {
            "text/plain": [
              "[<matplotlib.lines.Line2D at 0x2083d6f1860>]"
            ]
          },
          "metadata": {
            "tags": []
          },
          "execution_count": 26
        },
        {
          "output_type": "display_data",
          "data": {
            "image/png": "[encoded data removed]",
            "text/plain": [
              "<Figure size 432x288 with 1 Axes>"
            ]
          },
          "metadata": {
            "tags": []
          }
        }
      ]
    },
    {
      "metadata": {
        "id": "AebieMyIj3Ph",
        "colab_type": "code",
        "colab": {}
      },
      "cell_type": "code",
      "source": [
        "ops.reset_default_graph()\n",
        "\n",
        "sess = tf.Session()\n",
        "batch_size = 25\n",
        "\n",
        "x_vals = np.random.normal(1, 0.1, 100)\n",
        "y_vals = np.repeat(10., 100)\n",
        "x_data = tf.placeholder(shape=[None, 1], dtype=tf.float32)\n",
        "y_target = tf.placeholder(shape=[None, 1], dtype=tf.float32)"
      ],
      "execution_count": 0,
      "outputs": []
    },
    {
      "metadata": {
        "id": "pVQb2FO9j3Pk",
        "colab_type": "code",
        "colab": {}
      },
      "cell_type": "code",
      "source": [
        "A= tf.Variable(tf.random_normal(shape = [1,1]))\n",
        "\n",
        "output = tf.matmul(x_data, A)"
      ],
      "execution_count": 0,
      "outputs": []
    },
    {
      "metadata": {
        "id": "J5wju_gMj3Po",
        "colab_type": "code",
        "colab": {}
      },
      "cell_type": "code",
      "source": [
        "loss = tf.reduce_mean(tf.square(output - y_target))\n",
        "init = tf.global_variables_initializer()\n",
        "sess.run(init)\n",
        "\n",
        "# Create Optimizer\n",
        "my_opt = tf.train.GradientDescentOptimizer(0.02)\n",
        "train_step = my_opt.minimize(loss)"
      ],
      "execution_count": 0,
      "outputs": []
    },
    {
      "metadata": {
        "id": "bJcL4hjIj3Pq",
        "colab_type": "code",
        "colab": {},
        "outputId": "e7ad59cf-0d33-4e4b-adde-b4b7fa6c5220"
      },
      "cell_type": "code",
      "source": [
        "\n",
        "loss_batch = []\n",
        "# Run Loop\n",
        "for i in range(100):\n",
        "    rand_index = np.random.choice(100, size=batch_size)\n",
        "    rand_x = np.transpose([x_vals[rand_index]])\n",
        "    rand_y = np.transpose([y_vals[rand_index]])\n",
        "    sess.run(train_step, feed_dict={x_data: rand_x, y_target: rand_y})\n",
        "    if (i+1)%5==0:\n",
        "        print('Step #' + str(i+1) + ' A = ' + str(sess.run(A)))\n",
        "        temp_loss = sess.run(loss, feed_dict={x_data: rand_x, y_target: rand_y})\n",
        "        print('Loss = ' + str(temp_loss))\n",
        "        loss_batch.append(temp_loss)"
      ],
      "execution_count": 0,
      "outputs": [
        {
          "output_type": "stream",
          "text": [
            "Step #5 A = [[1.4085385]]\n",
            "Loss = 73.59806\n",
            "Step #10 A = [[2.99924]]\n",
            "Loss = 49.78339\n",
            "Step #15 A = [[4.2830935]]\n",
            "Loss = 34.75342\n",
            "Step #20 A = [[5.329311]]\n",
            "Loss = 20.618296\n",
            "Step #25 A = [[6.176358]]\n",
            "Loss = 14.256062\n",
            "Step #30 A = [[6.876156]]\n",
            "Loss = 9.841668\n",
            "Step #35 A = [[7.4124985]]\n",
            "Loss = 6.608699\n",
            "Step #40 A = [[7.8637185]]\n",
            "Loss = 3.8899658\n",
            "Step #45 A = [[8.233917]]\n",
            "Loss = 4.0464845\n",
            "Step #50 A = [[8.547974]]\n",
            "Loss = 3.2409012\n",
            "Step #55 A = [[8.78703]]\n",
            "Loss = 2.4069793\n",
            "Step #60 A = [[8.98773]]\n",
            "Loss = 1.8154564\n",
            "Step #65 A = [[9.137084]]\n",
            "Loss = 1.1114177\n",
            "Step #70 A = [[9.251649]]\n",
            "Loss = 1.0044312\n",
            "Step #75 A = [[9.366985]]\n",
            "Loss = 1.2088118\n",
            "Step #80 A = [[9.427282]]\n",
            "Loss = 1.011327\n",
            "Step #85 A = [[9.502225]]\n",
            "Loss = 0.6899825\n",
            "Step #90 A = [[9.567043]]\n",
            "Loss = 1.3369613\n",
            "Step #95 A = [[9.607678]]\n",
            "Loss = 1.2103543\n",
            "Step #100 A = [[9.638785]]\n",
            "Loss = 1.395734\n"
          ],
          "name": "stdout"
        }
      ]
    },
    {
      "metadata": {
        "id": "HYEbyuMmj3Pv",
        "colab_type": "code",
        "colab": {},
        "outputId": "ab206a78-0f29-41ca-f3bb-7d1d4f28671d"
      },
      "cell_type": "code",
      "source": [
        "plt.plot(range(0, 100, 5), loss_stochastic, 'b-', label='Stochastic Loss')\n",
        "plt.plot(range(0, 100, 5), loss_batch, 'r--', label='Batch Loss, size=20')\n",
        "plt.legend(loc='upper right', prop={'size': 11})\n",
        "plt.show()"
      ],
      "execution_count": 0,
      "outputs": [
        {
          "output_type": "display_data",
          "data": {
            "image/png": "[encoded data removed]",
            "text/plain": [
              "<Figure size 432x288 with 1 Axes>"
            ]
          },
          "metadata": {
            "tags": []
          }
        }
      ]
    },
    {
      "metadata": {
        "id": "Fm1W8wVLj3P0",
        "colab_type": "code",
        "colab": {}
      },
      "cell_type": "code",
      "source": [
        ""
      ],
      "execution_count": 0,
      "outputs": []
    }
  ]
}