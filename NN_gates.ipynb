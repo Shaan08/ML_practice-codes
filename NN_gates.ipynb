{
  "nbformat": 4,
  "nbformat_minor": 0,
  "metadata": {
    "colab": {
      "name": "NN gates.ipynb",
      "version": "0.3.2",
      "provenance": [],
      "include_colab_link": true
    },
    "kernelspec": {
      "display_name": "Python 3",
      "language": "python",
      "name": "python3"
    }
  },
  "cells": [
    {
      "cell_type": "markdown",
      "metadata": {
        "id": "view-in-github",
        "colab_type": "text"
      },
      "source": [
        "[View in Colaboratory](https://colab.research.google.com/github/findingfoot/ML_practice-codes/blob/master/NN_gates.ipynb)"
      ]
    },
    {
      "metadata": {
        "id": "o4n2SVLqZDBh",
        "colab_type": "code",
        "colab": {}
      },
      "cell_type": "code",
      "source": [
        "import warnings\n",
        "warnings.filterwarnings('ignore')\n",
        "\n",
        "import tensorflow as tf\n",
        "from tensorflow.python.framework import ops\n",
        "\n",
        "ops.reset_default_graph()"
      ],
      "execution_count": 0,
      "outputs": []
    },
    {
      "metadata": {
        "id": "zWNPXRl6ZDBj",
        "colab_type": "code",
        "colab": {}
      },
      "cell_type": "code",
      "source": [
        "sess = tf.Session()\n",
        "\n",
        "a = tf.Variable(tf.constant(4.)) # a\n",
        "x_val = 6. # x\n",
        "x_data = tf.placeholder(dtype=tf.float32) #placholder\n",
        "\n",
        "#operation\n",
        "\n",
        "multiplication = tf.multiply(a,x_data)\n",
        "\n",
        "\n",
        "#change the variable as per the loss function\n",
        "# describe the loss function\n",
        "\n",
        "loss = tf.square(tf.subtract(multiplication, 50.))"
      ],
      "execution_count": 0,
      "outputs": []
    },
    {
      "metadata": {
        "id": "DBKF694XZDBn",
        "colab_type": "code",
        "colab": {}
      },
      "cell_type": "code",
      "source": [
        "# intialize the variables\n",
        "init = tf.global_variables_initializer()\n",
        "sess.run(init)\n"
      ],
      "execution_count": 0,
      "outputs": []
    },
    {
      "metadata": {
        "id": "cRqHw7vZZDBq",
        "colab_type": "code",
        "colab": {}
      },
      "cell_type": "code",
      "source": [
        "# training the model and optimize to minimize the loss\n",
        "\n",
        "my_opt = tf.train.GradientDescentOptimizer(0.01)\n",
        "\n",
        "train_step = my_opt.minimize(loss)"
      ],
      "execution_count": 0,
      "outputs": []
    },
    {
      "metadata": {
        "id": "E0n3FmVCZDBu",
        "colab_type": "code",
        "colab": {
          "base_uri": "https://localhost:8080/",
          "height": 204
        },
        "outputId": "822a8b10-198c-494d-f169-47482cda1c28"
      },
      "cell_type": "code",
      "source": [
        "#lets run the model\n",
        "\n",
        "print('minimizing the multiplication gate output to be as close to 50')\n",
        "\n",
        "for i in range(10):\n",
        "    sess.run(train_step, feed_dict={x_data: x_val})\n",
        "    a_val = sess.run(a)\n",
        "    multiplication_output = sess.run(multiplication, feed_dict={x_data:x_val})\n",
        "    print(str(a_val) + ' * ' + str(x_val) + ' = ' + str(multiplication_output))"
      ],
      "execution_count": 0,
      "outputs": [
        {
          "output_type": "stream",
          "text": [
            "minimizing the multiplication gate output to be as close to 50\n",
            "7.12 * 6.0 = 42.72\n",
            "7.9936 * 6.0 = 47.9616\n",
            "8.238208 * 6.0 = 49.429245\n",
            "8.306699 * 6.0 = 49.840195\n",
            "8.325875 * 6.0 = 49.955254\n",
            "8.331244 * 6.0 = 49.987465\n",
            "8.332748 * 6.0 = 49.99649\n",
            "8.33317 * 6.0 = 49.99902\n",
            "8.333287 * 6.0 = 49.999725\n",
            "8.333321 * 6.0 = 49.999924\n"
          ],
          "name": "stdout"
        }
      ]
    },
    {
      "metadata": {
        "id": "MrhA4dUOZDBz",
        "colab_type": "code",
        "colab": {
          "base_uri": "https://localhost:8080/",
          "height": 221
        },
        "outputId": "7c7696aa-aece-4c38-9a56-7e2b06fbeb37"
      },
      "cell_type": "code",
      "source": [
        "# adding new operation gate of addition\n",
        "ops.reset_default_graph()\n",
        "sess = tf.Session()\n",
        "\n",
        "a = tf.Variable(tf.constant(1.))\n",
        "b = tf.Variable(tf.constant(1.))\n",
        "x_val = 5.\n",
        "x_data = tf.placeholder(dtype=tf.float32)\n",
        "\n",
        "double_gate = tf.add(tf.multiply(a,x_data), b)\n",
        "\n",
        "\n",
        "loss = tf.square(tf.subtract(double_gate, 50.))\n",
        "\n",
        "init = tf.global_variables_initializer()\n",
        "sess.run(init)\n",
        "\n",
        "my_opt = tf.train.GradientDescentOptimizer(0.002)\n",
        "train_step = my_opt.minimize(loss)\n",
        "\n",
        "print('\\nOptimizing Two Gate Output to 50.')\n",
        "\n",
        "for i in range(10):\n",
        "    sess.run(train_step, feed_dict={x_data:x_val})\n",
        "    a_val, b_val = sess.run(a), sess.run(b)\n",
        "    \n",
        "    double_gate_output = sess.run(double_gate, feed_dict={x_data:x_val})\n",
        "    print(str(a_val) + ' * ' + str(x_val) + ' + ' + str(b_val) + ' = ' + str(double_gate_output))"
      ],
      "execution_count": 0,
      "outputs": [
        {
          "output_type": "stream",
          "text": [
            "\n",
            "Optimizing Two Gate Output to 50.\n",
            "1.88 * 5.0 + 1.176 = 10.575999\n",
            "2.66848 * 5.0 + 1.333696 = 14.676096\n",
            "3.374958 * 5.0 + 1.4749917 = 18.349781\n",
            "4.007962 * 5.0 + 1.6015925 = 21.641403\n",
            "4.5751343 * 5.0 + 1.715027 = 24.590698\n",
            "5.08332 * 5.0 + 1.8166642 = 27.233265\n",
            "5.538655 * 5.0 + 1.9077312 = 29.601006\n",
            "5.946635 * 5.0 + 1.9893272 = 31.7225\n",
            "6.312185 * 5.0 + 2.0624373 = 33.623363\n",
            "6.6397176 * 5.0 + 2.1279438 = 35.326534\n"
          ],
          "name": "stdout"
        }
      ]
    },
    {
      "metadata": {
        "id": "ZbfX3mH4ZDB3",
        "colab_type": "code",
        "colab": {}
      },
      "cell_type": "code",
      "source": [
        ""
      ],
      "execution_count": 0,
      "outputs": []
    }
  ]
}