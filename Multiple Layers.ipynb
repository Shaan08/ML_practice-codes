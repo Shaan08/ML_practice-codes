{
 "cells": [
  {
   "cell_type": "code",
   "execution_count": 46,
   "metadata": {},
   "outputs": [],
   "source": [
    "import warnings\n",
    "warnings.filterwarnings('ignore')\n",
    "import tensorflow as tf\n",
    "from tensorflow.python.framework import ops\n",
    "import csv,os,random, os.path,requests\n",
    "import numpy as np\n",
    "import matplotlib.pyplot as plt\n"
   ]
  },
  {
   "cell_type": "code",
   "execution_count": 47,
   "metadata": {},
   "outputs": [],
   "source": [
    "#if the file is stored in the directory\n",
    "birth_weight_file = 'birth_weight.csv'\n",
    "\n",
    "if not os.path.exists(birth_weight_file):\n",
    "    birthdata_url = 'https://github.com/nfmcclure/tensorflow_cookbook/raw/master/01_Introduction/07_Working_with_Data_Sources/birthweight_data/birthweight.dat'\n",
    "    birth_file = requests.get(birthdata_url)\n",
    "    birth_data = birth_file.text.split('\\r\\n')\n",
    "    birth_header = birth_data[0].split('\\t')\n",
    "    birth_data = [[float(x) for x in y.split('\\t') if len(x)>=1] for y in birth_data[1:] if len(y)>=1]\n",
    "    with open(birth_weight_file, \"w\") as f:\n",
    "        writer = csv.writer(f)\n",
    "        writer.writerows([birth_header])\n",
    "        writer.writerows(birth_data)\n",
    "        f.close()\n",
    "\n",
    "birth_data = []\n",
    "with open(birth_weight_file, newline='') as csvfile:\n",
    "    csv_reader = csv.reader(csvfile)\n",
    "    birth_header = next(csv_reader)\n",
    "    for row in csv_reader:\n",
    "        birth_data.append(row)\n",
    "\n",
    "birth_data = [[float(x) for x in row] for row in birth_data]\n",
    "\n",
    "y_vals = np.array([x[8] for x in birth_data])\n",
    "\n",
    "#features of interest\n",
    "\n",
    "cols_of_interest =['AGE' , 'LWT' , 'RACE', 'SMOKE', 'PTL' , 'HT', 'UI']\n",
    "x_vals = np.array([ [x[ix] for ix, feature in enumerate(birth_header) if feature in cols_of_interest ] for x in birth_data])"
   ]
  },
  {
   "cell_type": "code",
   "execution_count": 48,
   "metadata": {},
   "outputs": [],
   "source": [
    "#Lets train the model\n",
    "\n",
    "ops.reset_default_graph()\n",
    "\n",
    "sess = tf.Session()\n",
    "\n",
    "#batch size for training\n",
    "batch_size = 150\n",
    "\n",
    "#reproducible \n",
    "seed = 23\n",
    "np.random.seed(seed)\n",
    "tf.set_random_seed(seed)\n",
    "\n",
    "#train test split\n",
    "train_indices = np.random.choice(len(x_vals), round(len(x_vals) * 0.8), replace=False)\n",
    "test_indices = np.array(list ( set (range (len (x_vals))) - set(train_indices)))\n",
    "x_vals_train = x_vals[train_indices]\n",
    "x_vals_test =  x_vals[test_indices]\n",
    "y_vals_train = y_vals[train_indices]\n",
    "y_vals_test = y_vals[test_indices]\n",
    "\n",
    "\n",
    "#normalize\n",
    "#observe the training data min and max for scaling the non training data\n",
    "train_max = np.max(x_vals_train, axis = 0)\n",
    "train_min = np.min(x_vals_train, axis = 0)\n",
    "\n",
    "def normalize_columns(mat, max_vals, min_vals):\n",
    "    return(mat -  max_vals)/(max_vals - min_vals)\n",
    "\n",
    "x_vals_train  = np.nan_to_num(normalize_columns(x_vals_train, train_max, train_min))\n",
    "x_vals_test = np.nan_to_num(normalize_columns(x_vals_test, train_max, train_min))"
   ]
  },
  {
   "cell_type": "code",
   "execution_count": 49,
   "metadata": {},
   "outputs": [],
   "source": [
    "def init_weight(shape, st_dev):\n",
    "    weight = tf.Variable(tf.random_normal(shape, stddev=st_dev))\n",
    "    return(weight)\n",
    "\n",
    "def init_bias(shape, st_dev):\n",
    "    bias = tf.Variable(tf.random_normal(shape, stddev=st_dev))\n",
    "    return(bias)\n",
    "\n",
    "\n",
    "#create the placeholders\n",
    "\n",
    "x_data = tf.placeholder(shape = [None, 7], dtype=tf.float32)\n",
    "y_target = tf.placeholder(shape = [None, 1], dtype=tf.float32)"
   ]
  },
  {
   "cell_type": "code",
   "execution_count": 50,
   "metadata": {},
   "outputs": [],
   "source": [
    "# lets create the layers. Fully connected layers with our inputs.\n",
    "\n",
    "def fully_connected(input_layer, weight, bias):\n",
    "    layer = tf.add(tf.matmul(input_layer, weight), bias)\n",
    "    return(tf.nn.relu(layer))\n",
    "\n",
    "\n",
    "#lets create the first layer\n",
    "\n",
    "weight_1 = init_weight(shape = [7,25], st_dev= 10.0)\n",
    "bias_1 = init_bias(shape = [25], st_dev=10.0)\n",
    "layer_1 = fully_connected(x_data, weight_1, bias_1)\n",
    "\n",
    "#creating second layer\n",
    "weight_2 = init_weight(shape = [25,10], st_dev= 10.0)\n",
    "bias_2 = init_bias(shape = [10], st_dev=10.0)\n",
    "layer_2 = fully_connected(layer_1, weight_2, bias_2)\n",
    "\n",
    "\n",
    "#creating the third layer\n",
    "weight_3 = init_weight(shape = [10,3], st_dev= 10.0)\n",
    "bias_3 = init_bias(shape = [3], st_dev=10.0)\n",
    "layer_3 = fully_connected(layer_2, weight_3, bias_3)\n",
    "\n",
    "#creating the output layer\n",
    "\n",
    "weight_4 = init_weight(shape = [3,1], st_dev= 10.0)\n",
    "bias_4 = init_bias(shape = [1], st_dev=10.0)\n",
    "final_output = fully_connected(layer_3, weight_4, bias_4)\n",
    "\n",
    "#loss\n",
    "loss= tf.reduce_mean(tf.abs(y_target - final_output))\n",
    "\n",
    "#declare the optimizer\n",
    "\n",
    "my_opt = tf.train.AdamOptimizer(0.001)\n",
    "train_step = my_opt.minimize(loss)\n"
   ]
  },
  {
   "cell_type": "code",
   "execution_count": 51,
   "metadata": {},
   "outputs": [
    {
     "name": "stdout",
     "output_type": "stream",
     "text": [
      "Generation: 25. Loss = 2969.5466\n",
      "Generation: 50. Loss = 2998.04\n",
      "Generation: 75. Loss = 3116.7068\n",
      "Generation: 100. Loss = 2963.68\n",
      "Generation: 125. Loss = 3042.9067\n",
      "Generation: 150. Loss = 2922.8733\n",
      "Generation: 175. Loss = 3036.56\n",
      "Generation: 200. Loss = 2890.0867\n",
      "Generation: 225. Loss = 2956.12\n",
      "Generation: 250. Loss = 2922.0466\n",
      "Generation: 275. Loss = 2954.5066\n",
      "Generation: 300. Loss = 3003.74\n",
      "Generation: 325. Loss = 2952.6533\n",
      "Generation: 350. Loss = 2943.68\n",
      "Generation: 375. Loss = 3040.3867\n",
      "Generation: 400. Loss = 2904.2266\n",
      "Generation: 425. Loss = 2952.3467\n",
      "Generation: 450. Loss = 3069.5\n",
      "Generation: 475. Loss = 2955.3933\n",
      "Generation: 500. Loss = 2960.24\n"
     ]
    }
   ],
   "source": [
    "#initialize the operator \n",
    "\n",
    "init = tf.global_variables_initializer()\n",
    "sess.run(init)\n",
    "\n",
    "loss_vec =[]\n",
    "test_set_loss = []\n",
    "\n",
    "for i in range(500):\n",
    "    rand_index = np.random.choice(len(x_vals_train), size = batch_size)\n",
    "    rand_x = x_vals_train[rand_index]\n",
    "    rand_y = np.transpose([y_vals_train[rand_index]])\n",
    "    sess.run(train_step, feed_dict={x_data: rand_x, y_target: rand_y})\n",
    "    \n",
    "    temp_loss = sess.run(loss, feed_dict={x_data: rand_x, y_target: rand_y})\n",
    "    loss_vec.append(temp_loss)\n",
    "    \n",
    "    temp_test_loss = sess.run(loss, feed_dict={x_data: x_vals_test, \n",
    "                                               y_target: np.transpose([y_vals_test])})\n",
    "    \n",
    "    test_set_loss.append(temp_test_loss)\n",
    "    \n",
    "    if(i+1)%25 == 0:\n",
    "        print('Generation: ' + str(i+1) + '. Loss = ' + str(temp_loss))\n",
    "        \n",
    "        "
   ]
  },
  {
   "cell_type": "code",
   "execution_count": 52,
   "metadata": {},
   "outputs": [
    {
     "data": {
      "image/png": "[encoded data removed]",
      "text/plain": [
       "<Figure size 432x288 with 1 Axes>"
      ]
     },
     "metadata": {},
     "output_type": "display_data"
    }
   ],
   "source": [
    "#visualizing the result\n",
    "from jupyterthemes import jtplot\n",
    "jtplot.style(context='talk', fscale=1.4, spines=False, gridlines='-')\n",
    "%matplotlib inline\n",
    "plt.plot(loss_vec, 'g.', label='Train Loss')\n",
    "plt.plot(test_set_loss, 'r.', label='Test Loss')\n",
    "plt.title('Loss (MSE) per Generation')\n",
    "plt.legend(loc='upper right')\n",
    "plt.xlabel('Generation')\n",
    "plt.ylabel('Loss')\n",
    "plt.show()"
   ]
  },
  {
   "cell_type": "code",
   "execution_count": 55,
   "metadata": {},
   "outputs": [
    {
     "name": "stdout",
     "output_type": "stream",
     "text": [
      "On predicting the category of low birthweight from regression output (<2500g):\n",
      "Test Accuracy: 0.42105263157894735\n",
      "Train Accuracy: 0.2847682119205298\n"
     ]
    }
   ],
   "source": [
    "#calculating the accuracy of the model\n",
    "\n",
    "actual = np.array([x[0] for x in birth_data])\n",
    "test_actual = actual[test_indices]\n",
    "train_actual = actual[train_indices]\n",
    "test_preds = [x[0] for x in sess.run(final_output, feed_dict={x_data: x_vals_test})]\n",
    "train_preds = [x[0] for x in sess.run(final_output, feed_dict={x_data: x_vals_train})]\n",
    "test_preds = np.array([1.0 if x < 2500.0 else 0.0 for x in test_preds])\n",
    "train_preds = np.array([1.0 if x < 2500.0 else 0.0 for x in train_preds])\n",
    "\n",
    "test_acc = np.mean([x == y for x, y in zip(test_preds, test_actual)])\n",
    "train_acc = np.mean([x == y for x, y in zip(train_preds, train_actual)])\n",
    "print('On predicting the category of low birthweight from regression output (<2500g):')\n",
    "print('Test Accuracy: {}'.format(test_acc))\n",
    "print('Train Accuracy: {}'.format(train_acc))"
   ]
  },
  {
   "cell_type": "code",
   "execution_count": 57,
   "metadata": {},
   "outputs": [
    {
     "name": "stdout",
     "output_type": "stream",
     "text": [
      "New Data Predictions: [1. 1.]\n"
     ]
    }
   ],
   "source": [
    "new_data = np.array([[35, 185, 1., 0., 0., 0., 1.],\n",
    "                     [18, 160, 0., 1., 0., 0., 1.]])\n",
    "new_data_scaled = np.nan_to_num(normalize_columns(new_data, train_max, train_min))\n",
    "new_logits = [x[0] for x in sess.run(final_output, feed_dict={x_data: new_data_scaled})]\n",
    "new_preds = np.array([1.0 if x < 2500.0 else 0.0 for x in new_logits])\n",
    "\n",
    "print('New Data Predictions: {}'.format(new_preds))"
   ]
  },
  {
   "cell_type": "code",
   "execution_count": null,
   "metadata": {},
   "outputs": [],
   "source": []
  },
  {
   "cell_type": "code",
   "execution_count": null,
   "metadata": {},
   "outputs": [],
   "source": []
  },
  {
   "cell_type": "code",
   "execution_count": null,
   "metadata": {},
   "outputs": [],
   "source": []
  },
  {
   "cell_type": "code",
   "execution_count": null,
   "metadata": {},
   "outputs": [],
   "source": []
  },
  {
   "cell_type": "code",
   "execution_count": null,
   "metadata": {},
   "outputs": [],
   "source": []
  },
  {
   "cell_type": "code",
   "execution_count": null,
   "metadata": {},
   "outputs": [],
   "source": []
  },
  {
   "cell_type": "code",
   "execution_count": null,
   "metadata": {},
   "outputs": [],
   "source": []
  },
  {
   "cell_type": "code",
   "execution_count": null,
   "metadata": {},
   "outputs": [],
   "source": []
  },
  {
   "cell_type": "code",
   "execution_count": null,
   "metadata": {},
   "outputs": [],
   "source": []
  },
  {
   "cell_type": "code",
   "execution_count": null,
   "metadata": {},
   "outputs": [],
   "source": []
  },
  {
   "cell_type": "code",
   "execution_count": null,
   "metadata": {},
   "outputs": [],
   "source": []
  }
 ],
 "metadata": {
  "kernelspec": {
   "display_name": "Python 3",
   "language": "python",
   "name": "python3"
  },
  "language_info": {
   "codemirror_mode": {
    "name": "ipython",
    "version": 3
   },
   "file_extension": ".py",
   "mimetype": "text/x-python",
   "name": "python",
   "nbconvert_exporter": "python",
   "pygments_lexer": "ipython3",
   "version": "3.6.5"
  }
 },
 "nbformat": 4,
 "nbformat_minor": 2
}
