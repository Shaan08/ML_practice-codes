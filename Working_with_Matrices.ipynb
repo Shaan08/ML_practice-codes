{
  "nbformat": 4,
  "nbformat_minor": 0,
  "metadata": {
    "colab": {
      "name": "Working_with_Matrices (1).ipynb",
      "version": "0.3.2",
      "provenance": [],
      "include_colab_link": true
    },
    "kernelspec": {
      "display_name": "Python 3",
      "language": "python",
      "name": "python3"
    }
  },
  "cells": [
    {
      "cell_type": "markdown",
      "metadata": {
        "id": "view-in-github",
        "colab_type": "text"
      },
      "source": [
        "[View in Colaboratory](https://colab.research.google.com/github/findingfoot/ML_practice-codes/blob/master/Working_with_Matrices.ipynb)"
      ]
    },
    {
      "metadata": {
        "id": "rvfItDw1I5gl",
        "colab_type": "code",
        "colab": {}
      },
      "cell_type": "code",
      "source": [
        "import tensorflow as tf\n",
        "import numpy as np\n",
        "\n",
        "from tensorflow.python.framework import ops\n",
        "ops.reset_default_graph()"
      ],
      "execution_count": 0,
      "outputs": []
    },
    {
      "metadata": {
        "id": "drVSFG5nKO11",
        "colab_type": "code",
        "colab": {}
      },
      "cell_type": "code",
      "source": [
        "sess = tf.Session()"
      ],
      "execution_count": 0,
      "outputs": []
    },
    {
      "metadata": {
        "id": "eJUGIBIpKTYM",
        "colab_type": "code",
        "colab": {
          "base_uri": "https://localhost:8080/",
          "height": 68
        },
        "outputId": "0d455b28-3ef6-4dad-b836-2c64ac1dfacc"
      },
      "cell_type": "code",
      "source": [
        "identity_matrix = tf.diag([1.0,1.0,1.0])\n",
        "print(sess.run(identity_matrix))"
      ],
      "execution_count": 4,
      "outputs": [
        {
          "output_type": "stream",
          "text": [
            "[[1. 0. 0.]\n",
            " [0. 1. 0.]\n",
            " [0. 0. 1.]]\n"
          ],
          "name": "stdout"
        }
      ]
    },
    {
      "metadata": {
        "id": "dtuh_uTwgRnd",
        "colab_type": "code",
        "colab": {
          "base_uri": "https://localhost:8080/",
          "height": 51
        },
        "outputId": "585411f8-cce6-436c-d123-b996d6222b13"
      },
      "cell_type": "code",
      "source": [
        "A = tf.truncated_normal([2,3])\n",
        "\n",
        "print(sess.run(A))"
      ],
      "execution_count": 5,
      "outputs": [
        {
          "output_type": "stream",
          "text": [
            "[[ 0.02334532  0.46713004 -0.41599032]\n",
            " [ 0.59580874 -0.14107002 -0.33487496]]\n"
          ],
          "name": "stdout"
        }
      ]
    },
    {
      "metadata": {
        "id": "cS6FzuOhizkF",
        "colab_type": "code",
        "colab": {
          "base_uri": "https://localhost:8080/",
          "height": 51
        },
        "outputId": "c3cfe197-7e9f-4129-e7f4-e9a81333f407"
      },
      "cell_type": "code",
      "source": [
        "B = tf.fill([2,3],1.0)\n",
        "print(sess.run(B))"
      ],
      "execution_count": 6,
      "outputs": [
        {
          "output_type": "stream",
          "text": [
            "[[1. 1. 1.]\n",
            " [1. 1. 1.]]\n"
          ],
          "name": "stdout"
        }
      ]
    },
    {
      "metadata": {
        "id": "T17Gqw5_jV-i",
        "colab_type": "code",
        "colab": {
          "base_uri": "https://localhost:8080/",
          "height": 68
        },
        "outputId": "76273518-dd8c-4ddf-80e9-75b41f8ceca1"
      },
      "cell_type": "code",
      "source": [
        "C = tf.random_uniform([3,2])\n",
        "print(sess.run(C))"
      ],
      "execution_count": 7,
      "outputs": [
        {
          "output_type": "stream",
          "text": [
            "[[0.740711   0.8397039 ]\n",
            " [0.8811586  0.6031524 ]\n",
            " [0.3789791  0.02844024]]\n"
          ],
          "name": "stdout"
        }
      ]
    },
    {
      "metadata": {
        "id": "_9QaC6RVkTMS",
        "colab_type": "code",
        "colab": {
          "base_uri": "https://localhost:8080/",
          "height": 68
        },
        "outputId": "c4eca802-a646-419f-ec50-672d9dc66000"
      },
      "cell_type": "code",
      "source": [
        "D = tf.convert_to_tensor(np.array([[1,2,3] , [4,6,2], [4,7,3]]), dtype=float)\n",
        "\n",
        "print(sess.run(D))"
      ],
      "execution_count": 8,
      "outputs": [
        {
          "output_type": "stream",
          "text": [
            "[[1. 2. 3.]\n",
            " [4. 6. 2.]\n",
            " [4. 7. 3.]]\n"
          ],
          "name": "stdout"
        }
      ]
    },
    {
      "metadata": {
        "id": "u1scp_Y2knaS",
        "colab_type": "code",
        "colab": {
          "base_uri": "https://localhost:8080/",
          "height": 51
        },
        "outputId": "8fecec63-562a-4c71-c76c-742fbe97e9f9"
      },
      "cell_type": "code",
      "source": [
        "print(sess.run(A+B)*2.0)"
      ],
      "execution_count": 9,
      "outputs": [
        {
          "output_type": "stream",
          "text": [
            "[[2.3704622  2.099173   0.7565907 ]\n",
            " [0.7792487  4.230262   0.46542978]]\n"
          ],
          "name": "stdout"
        }
      ]
    },
    {
      "metadata": {
        "id": "pOHkaAqPktyp",
        "colab_type": "code",
        "colab": {
          "base_uri": "https://localhost:8080/",
          "height": 51
        },
        "outputId": "91e8e6e1-6fc5-4e66-d40d-53b691fc4789"
      },
      "cell_type": "code",
      "source": [
        "print(sess.run(tf.matmul(B, identity_matrix)))"
      ],
      "execution_count": 10,
      "outputs": [
        {
          "output_type": "stream",
          "text": [
            "[[1. 1. 1.]\n",
            " [1. 1. 1.]]\n"
          ],
          "name": "stdout"
        }
      ]
    },
    {
      "metadata": {
        "id": "y4Kbve4Uofmy",
        "colab_type": "code",
        "colab": {
          "base_uri": "https://localhost:8080/",
          "height": 68
        },
        "outputId": "7b99a2c6-ab51-4e2d-f99e-d8fb81b026fc"
      },
      "cell_type": "code",
      "source": [
        "print(sess.run(tf.transpose(A)))"
      ],
      "execution_count": 11,
      "outputs": [
        {
          "output_type": "stream",
          "text": [
            "[[-1.9856371  -1.2714075 ]\n",
            " [-0.7859276   0.86523324]\n",
            " [-0.9627791  -0.39131317]]\n"
          ],
          "name": "stdout"
        }
      ]
    },
    {
      "metadata": {
        "id": "ZcxXjccoofm1",
        "colab_type": "code",
        "colab": {
          "base_uri": "https://localhost:8080/",
          "height": 34
        },
        "outputId": "f37474d4-581e-4c15-ea25-139192de3205"
      },
      "cell_type": "code",
      "source": [
        "print(sess.run(tf.matrix_determinant(D)))"
      ],
      "execution_count": 12,
      "outputs": [
        {
          "output_type": "stream",
          "text": [
            "8.0\n"
          ],
          "name": "stdout"
        }
      ]
    },
    {
      "metadata": {
        "id": "MaiCkQ1Nofm5",
        "colab_type": "code",
        "colab": {
          "base_uri": "https://localhost:8080/",
          "height": 68
        },
        "outputId": "aece0063-f758-444f-ea11-3b1f9b159072"
      },
      "cell_type": "code",
      "source": [
        "print(sess.run(tf.matrix_inverse(D)))"
      ],
      "execution_count": 13,
      "outputs": [
        {
          "output_type": "stream",
          "text": [
            "[[ 0.5    1.875 -1.75 ]\n",
            " [-0.5   -1.125  1.25 ]\n",
            " [ 0.5    0.125 -0.25 ]]\n"
          ],
          "name": "stdout"
        }
      ]
    },
    {
      "metadata": {
        "id": "bzZ45tloofm-",
        "colab_type": "code",
        "colab": {
          "base_uri": "https://localhost:8080/",
          "height": 68
        },
        "outputId": "af04a3d0-9a4d-4980-e5c9-d740f7b5d411"
      },
      "cell_type": "code",
      "source": [
        "#Cholesky decomposition\n",
        "print(sess.run(tf.cholesky(identity_matrix)))"
      ],
      "execution_count": 14,
      "outputs": [
        {
          "output_type": "stream",
          "text": [
            "[[1. 0. 0.]\n",
            " [0. 1. 0.]\n",
            " [0. 0. 1.]]\n"
          ],
          "name": "stdout"
        }
      ]
    },
    {
      "metadata": {
        "id": "svQOsT3vofnB",
        "colab_type": "code",
        "colab": {
          "base_uri": "https://localhost:8080/",
          "height": 34
        },
        "outputId": "95b60a3a-3775-4389-e16b-9e4494985590"
      },
      "cell_type": "code",
      "source": [
        "#Eigenvectors and eigenvectors\n",
        "eigenvalues, eigenvectors = sess.run(tf.self_adjoint_eig(D))\n",
        "print(eigenvalues)"
      ],
      "execution_count": 15,
      "outputs": [
        {
          "output_type": "stream",
          "text": [
            "[-2.8689706 -1.2128597 14.081838 ]\n"
          ],
          "name": "stdout"
        }
      ]
    },
    {
      "metadata": {
        "id": "g1IEI6H3ofnG",
        "colab_type": "code",
        "colab": {
          "base_uri": "https://localhost:8080/",
          "height": 68
        },
        "outputId": "fbee89f2-5894-446b-8857-812123782edf"
      },
      "cell_type": "code",
      "source": [
        "print(eigenvectors)"
      ],
      "execution_count": 16,
      "outputs": [
        {
          "output_type": "stream",
          "text": [
            "[[ 0.3297113  -0.85722697  0.39554095]\n",
            " [ 0.48878777  0.5134439   0.70531005]\n",
            " [-0.8076985  -0.03921305  0.5882903 ]]\n"
          ],
          "name": "stdout"
        }
      ]
    },
    {
      "metadata": {
        "id": "C_NrowCLofnK",
        "colab_type": "code",
        "colab": {}
      },
      "cell_type": "code",
      "source": [
        ""
      ],
      "execution_count": 0,
      "outputs": []
    }
  ]
}