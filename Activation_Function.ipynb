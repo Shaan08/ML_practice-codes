{
  "nbformat": 4,
  "nbformat_minor": 0,
  "metadata": {
    "colab": {
      "name": "Activation Function",
      "version": "0.3.2",
      "provenance": [],
      "include_colab_link": true
    },
    "kernelspec": {
      "display_name": "Python 3",
      "language": "python",
      "name": "python3"
    }
  },
  "cells": [
    {
      "cell_type": "markdown",
      "metadata": {
        "id": "view-in-github",
        "colab_type": "text"
      },
      "source": [
        "[View in Colaboratory](https://colab.research.google.com/github/findingfoot/ML_practice-codes/blob/master/Activation_Function.ipynb)"
      ]
    },
    {
      "metadata": {
        "id": "T_Z0n4mz5P-S",
        "colab_type": "code",
        "colab": {}
      },
      "cell_type": "code",
      "source": [
        "import warnings\n",
        "warnings.filterwarnings('ignore')\n",
        "\n",
        "import numpy as np\n",
        "import tensorflow as tf\n",
        "import matplotlib.pyplot as plt\n",
        "from tensorflow.python.framework import ops\n",
        "ops.reset_default_graph()\n",
        "\n",
        "sess = tf.Session()"
      ],
      "execution_count": 0,
      "outputs": []
    },
    {
      "metadata": {
        "id": "lm_5C5AE5P-W",
        "colab_type": "code",
        "colab": {}
      },
      "cell_type": "code",
      "source": [
        "# intialize the xrange of values\n",
        "\n",
        "x_val = np.linspace(1.,10.,100)\n"
      ],
      "execution_count": 0,
      "outputs": []
    },
    {
      "metadata": {
        "id": "HKWCx9Yw5P-Z",
        "colab_type": "code",
        "colab": {},
        "outputId": "2658421d-0d80-465b-b840-2a01ad27c50d"
      },
      "cell_type": "code",
      "source": [
        "#Relu\n",
        "\n",
        "print(sess.run(tf.nn.relu([-5.,5.,10.])))\n",
        "\n",
        "y_relu = sess.run(tf.nn.relu(x_val))"
      ],
      "execution_count": 0,
      "outputs": [
        {
          "output_type": "stream",
          "text": [
            "[ 0.  5. 10.]\n"
          ],
          "name": "stdout"
        }
      ]
    },
    {
      "metadata": {
        "id": "5XRYforO5P-e",
        "colab_type": "code",
        "colab": {},
        "outputId": "01c93b40-1344-4ed5-e4a6-9586e651104a"
      },
      "cell_type": "code",
      "source": [
        "#Relu6\n",
        "\n",
        "print(sess.run(tf.nn.relu6([-5.,5.,10.])))\n",
        "\n",
        "y_relu6 = sess.run(tf.nn.relu6(x_val))"
      ],
      "execution_count": 0,
      "outputs": [
        {
          "output_type": "stream",
          "text": [
            "[0. 5. 6.]\n"
          ],
          "name": "stdout"
        }
      ]
    },
    {
      "metadata": {
        "id": "QScFU7235P-h",
        "colab_type": "code",
        "colab": {},
        "outputId": "0b9f2506-1d24-40cb-eb79-f741c2e310e0"
      },
      "cell_type": "code",
      "source": [
        "#sigmoid\n",
        "\n",
        "print(sess.run(tf.nn.sigmoid([-1., 0., 1.])))\n",
        "\n",
        "y_sigmoid = sess.run(tf.nn.sigmoid(x_val))"
      ],
      "execution_count": 0,
      "outputs": [
        {
          "output_type": "stream",
          "text": [
            "[0.26894143 0.5        0.7310586 ]\n"
          ],
          "name": "stdout"
        }
      ]
    },
    {
      "metadata": {
        "id": "yuIz25Cw5P-l",
        "colab_type": "code",
        "colab": {},
        "outputId": "38dd4784-38fb-4b51-b8f9-392b3798ca4e"
      },
      "cell_type": "code",
      "source": [
        "#tanh\n",
        "\n",
        "print(sess.run(tf.nn.tanh([-1., 0., 1.])))\n",
        "\n",
        "y_tanh = sess.run(tf.nn.tanh(x_val))"
      ],
      "execution_count": 0,
      "outputs": [
        {
          "output_type": "stream",
          "text": [
            "[-0.7615942  0.         0.7615942]\n"
          ],
          "name": "stdout"
        }
      ]
    },
    {
      "metadata": {
        "id": "XjNRy6_h5P-q",
        "colab_type": "code",
        "colab": {},
        "outputId": "3c194651-e186-48d1-e3d0-7b134b2f1a81"
      },
      "cell_type": "code",
      "source": [
        "print(sess.run(tf.nn.softsign([-1., 0., 1.])))\n",
        "y_softsign = sess.run(tf.nn.softsign(x_val))"
      ],
      "execution_count": 0,
      "outputs": [
        {
          "output_type": "stream",
          "text": [
            "[-0.5  0.   0.5]\n"
          ],
          "name": "stdout"
        }
      ]
    },
    {
      "metadata": {
        "id": "98xYXufZ5P-t",
        "colab_type": "code",
        "colab": {},
        "outputId": "4a4be2da-2ce3-483e-b076-27e4fd60f489"
      },
      "cell_type": "code",
      "source": [
        "print(sess.run(tf.nn.softplus([-1., 0., 1.])))\n",
        "y_softplus = sess.run(tf.nn.softplus(x_val))"
      ],
      "execution_count": 0,
      "outputs": [
        {
          "output_type": "stream",
          "text": [
            "[0.31326166 0.6931472  1.3132616 ]\n"
          ],
          "name": "stdout"
        }
      ]
    },
    {
      "metadata": {
        "id": "194L2dv85P-1",
        "colab_type": "code",
        "colab": {},
        "outputId": "66fe3b62-4b8b-4bde-c943-843997f90f7b"
      },
      "cell_type": "code",
      "source": [
        "print(sess.run(tf.nn.elu([-1., 0., 1.])))\n",
        "y_elu = sess.run(tf.nn.elu(x_val))"
      ],
      "execution_count": 0,
      "outputs": [
        {
          "output_type": "stream",
          "text": [
            "[-0.63212055  0.          1.        ]\n"
          ],
          "name": "stdout"
        }
      ]
    },
    {
      "metadata": {
        "id": "bnjjbBZb5P-5",
        "colab_type": "code",
        "colab": {},
        "outputId": "ef02ba4c-c161-4930-c8a7-7794b0c540e7"
      },
      "cell_type": "code",
      "source": [
        "plt.plot(x_val, y_softplus, 'r--', label='Softplus', linewidth=2)\n",
        "plt.plot(x_val, y_relu, 'b:', label='ReLU', linewidth=2)\n",
        "plt.plot(x_val, y_relu6, 'g-.', label='ReLU6', linewidth=2)\n",
        "plt.plot(x_val, y_elu, 'k-', label='ExpLU', linewidth=0.5)\n",
        "plt.ylim([-1.5,7])\n",
        "plt.legend(loc='upper left')\n",
        "plt.show()\n",
        "\n",
        "plt.plot(x_val, y_sigmoid, 'r--', label='Sigmoid', linewidth=2)\n",
        "plt.plot(x_val, y_tanh, 'b:', label='Tanh', linewidth=2)\n",
        "plt.plot(x_val, y_softsign, 'g-.', label='Softsign', linewidth=2)\n",
        "plt.ylim([-2,2])\n",
        "plt.legend(loc='upper left')\n",
        "plt.show()\n"
      ],
      "execution_count": 0,
      "outputs": [
        {
          "output_type": "display_data",
          "data": {
            "image/png": "[encoded data removed]",
            "text/plain": [
              "<Figure size 432x288 with 1 Axes>"
            ]
          },
          "metadata": {
            "tags": []
          }
        },
        {
          "output_type": "display_data",
          "data": {
            "image/png": "[encoded data removed]",
            "text/plain": [
              "<Figure size 432x288 with 1 Axes>"
            ]
          },
          "metadata": {
            "tags": []
          }
        }
      ]
    },
    {
      "metadata": {
        "id": "YV6uw_to5P--",
        "colab_type": "code",
        "colab": {}
      },
      "cell_type": "code",
      "source": [
        ""
      ],
      "execution_count": 0,
      "outputs": []
    }
  ]
}