{
  "nbformat": 4,
  "nbformat_minor": 0,
  "metadata": {
    "colab": {
      "name": "Loss function.ipynb",
      "version": "0.3.2",
      "provenance": [],
      "include_colab_link": true
    },
    "kernelspec": {
      "display_name": "Python 3",
      "language": "python",
      "name": "python3"
    }
  },
  "cells": [
    {
      "cell_type": "markdown",
      "metadata": {
        "id": "view-in-github",
        "colab_type": "text"
      },
      "source": [
        "[View in Colaboratory](https://colab.research.google.com/github/findingfoot/ML_practice-codes/blob/master/Loss_function.ipynb)"
      ]
    },
    {
      "metadata": {
        "id": "FBhmztOZc7DH",
        "colab_type": "code",
        "colab": {}
      },
      "cell_type": "code",
      "source": [
        "import os\n",
        "import tensorflow as tf\n",
        "import numpy as np\n",
        "import matplotlib.pyplot as plt\n",
        "from PIL import Image\n",
        "from tensorflow.python.framework import ops\n",
        "ops.reset_default_graph()\n",
        "import warnings\n",
        "warnings.filterwarnings('ignore')\n",
        "\n",
        "sess= tf.Session()"
      ],
      "execution_count": 0,
      "outputs": []
    },
    {
      "metadata": {
        "id": "5z99gN13c7DL",
        "colab_type": "text"
      },
      "cell_type": "markdown",
      "source": [
        "# Numerical predictions\n"
      ]
    },
    {
      "metadata": {
        "id": "Vbovo3Y9c7DM",
        "colab_type": "code",
        "colab": {}
      },
      "cell_type": "code",
      "source": [
        "#Predictions of x values\n",
        "\n",
        "x_vals = tf.linspace(-1., 1., 500)\n",
        "\n",
        "target = tf.constant(0.)"
      ],
      "execution_count": 0,
      "outputs": []
    },
    {
      "metadata": {
        "id": "We44dfM8c7DQ",
        "colab_type": "code",
        "colab": {},
        "outputId": "f4b74413-5e20-4e4f-c457-b49bdd3e24c7"
      },
      "cell_type": "code",
      "source": [
        "# L2 loss \n",
        "# (pred - actual)**2\n",
        "l2_y_vals = tf.square(target - x_vals)\n",
        "l2_y_out = sess.run(l2_y_vals)\n",
        "\n",
        "print(l2_y_out)"
      ],
      "execution_count": 0,
      "outputs": [
        {
          "output_type": "stream",
          "text": [
            "[1.00000000e+00 9.92000103e-01 9.84032154e-01 9.76096511e-01\n",
            " 9.68192935e-01 9.60321426e-01 9.52482104e-01 9.44674969e-01\n",
            " 9.36899841e-01 9.29156899e-01 9.21446025e-01 9.13767397e-01\n",
            " 9.06120896e-01 8.98506403e-01 8.90924096e-01 8.83373976e-01\n",
            " 8.75855863e-01 8.68369997e-01 8.60916257e-01 8.53494525e-01\n",
            " 8.46105039e-01 8.38747680e-01 8.31422329e-01 8.24129224e-01\n",
            " 8.16868246e-01 8.09639275e-01 8.02442551e-01 7.95277953e-01\n",
            " 7.88145423e-01 7.81045079e-01 7.73976862e-01 7.66940653e-01\n",
            " 7.59936750e-01 7.52964914e-01 7.46025085e-01 7.39117563e-01\n",
            " 7.32241988e-01 7.25398719e-01 7.18587518e-01 7.11808383e-01\n",
            " 7.05061436e-01 6.98346555e-01 6.91663861e-01 6.85013294e-01\n",
            " 6.78394794e-01 6.71808541e-01 6.65254354e-01 6.58732235e-01\n",
            " 6.52242362e-01 6.45784557e-01 6.39358819e-01 6.32965326e-01\n",
            " 6.26603961e-01 6.20274603e-01 6.13977432e-01 6.07712448e-01\n",
            " 6.01479471e-01 5.95278740e-01 5.89110136e-01 5.82973540e-01\n",
            " 5.76869190e-01 5.70796967e-01 5.64756751e-01 5.58748782e-01\n",
            " 5.52772939e-01 5.46829104e-01 5.40917516e-01 5.35038054e-01\n",
            " 5.29190660e-01 5.23375332e-01 5.17592371e-01 5.11841297e-01\n",
            " 5.06122410e-01 5.00435770e-01 4.94781137e-01 4.89158630e-01\n",
            " 4.83568400e-01 4.78010118e-01 4.72483993e-01 4.66990054e-01\n",
            " 4.61528271e-01 4.56098527e-01 4.50700969e-01 4.45335567e-01\n",
            " 4.40002203e-01 4.34701055e-01 4.29432034e-01 4.24195051e-01\n",
            " 4.18990284e-01 4.13817644e-01 4.08677042e-01 4.03568655e-01\n",
            " 3.98492396e-01 3.93448204e-01 3.88436198e-01 3.83456320e-01\n",
            " 3.78508508e-01 3.73592883e-01 3.68709385e-01 3.63857955e-01\n",
            " 3.59038711e-01 3.54251623e-01 3.49496573e-01 3.44773710e-01\n",
            " 3.40083003e-01 3.35424334e-01 3.30797821e-01 3.26203555e-01\n",
            " 3.21641266e-01 3.17111135e-01 3.12613249e-01 3.08147341e-01\n",
            " 3.03713590e-01 2.99312085e-01 2.94942588e-01 2.90605217e-01\n",
            " 2.86300033e-01 2.82026976e-01 2.77785987e-01 2.73577183e-01\n",
            " 2.69400537e-01 2.65255928e-01 2.61143506e-01 2.57063240e-01\n",
            " 2.53015012e-01 2.48998985e-01 2.45015085e-01 2.41063267e-01\n",
            " 2.37143621e-01 2.33256102e-01 2.29400665e-01 2.25577399e-01\n",
            " 2.21786276e-01 2.18027219e-01 2.14300349e-01 2.10605592e-01\n",
            " 2.06942931e-01 2.03312442e-01 1.99714020e-01 1.96147799e-01\n",
            " 1.92613691e-01 1.89111665e-01 1.85641810e-01 1.82204098e-01\n",
            " 1.78798452e-01 1.75424993e-01 1.72083661e-01 1.68774396e-01\n",
            " 1.65497318e-01 1.62252367e-01 1.59039497e-01 1.55858815e-01\n",
            " 1.52710244e-01 1.49593756e-01 1.46509454e-01 1.43457279e-01\n",
            " 1.40437171e-01 1.37449250e-01 1.34493411e-01 1.31569743e-01\n",
            " 1.28678203e-01 1.25818744e-01 1.22991465e-01 1.20196313e-01\n",
            " 1.17433242e-01 1.14702344e-01 1.12003572e-01 1.09336890e-01\n",
            " 1.06702380e-01 1.04099996e-01 1.01529695e-01 9.89915729e-02\n",
            " 9.64855701e-02 9.40116569e-02 9.15699154e-02 8.91602635e-02\n",
            " 8.67827758e-02 8.44374150e-02 8.21241513e-02 7.98430443e-02\n",
            " 7.75940716e-02 7.53771886e-02 7.31924698e-02 7.10398778e-02\n",
            " 6.89193904e-02 6.68310523e-02 6.47748485e-02 6.27507418e-02\n",
            " 6.07587919e-02 5.87989688e-02 5.68712465e-02 5.49756810e-02\n",
            " 5.31122200e-02 5.12809083e-02 4.94817309e-02 4.77146506e-02\n",
            " 4.59797271e-02 4.42769341e-02 4.26062420e-02 4.09677029e-02\n",
            " 3.93612906e-02 3.77869867e-02 3.62448320e-02 3.47348042e-02\n",
            " 3.32568847e-02 3.18111144e-02 3.03974729e-02 2.90159397e-02\n",
            " 2.76665539e-02 2.63492968e-02 2.50641499e-02 2.38111485e-02\n",
            " 2.25902591e-02 2.14015152e-02 2.02449001e-02 1.91203952e-02\n",
            " 1.80280358e-02 1.69678051e-02 1.59396864e-02 1.49437124e-02\n",
            " 1.39798662e-02 1.30481338e-02 1.21485433e-02 1.12810815e-02\n",
            " 1.04457354e-02 9.64253023e-03 8.87145288e-03 8.13249312e-03\n",
            " 7.42567237e-03 6.75097015e-03 6.10840600e-03 5.49797015e-03\n",
            " 4.91965376e-03 4.37347405e-03 3.85942264e-03 3.37749231e-03\n",
            " 2.92769750e-03 2.51003075e-03 2.12448649e-03 1.77107635e-03\n",
            " 1.44979416e-03 1.16063596e-03 9.03610373e-04 6.78712793e-04\n",
            " 4.85940691e-04 3.25299741e-04 1.96786816e-04 1.00400750e-04\n",
            " 3.61444145e-05 4.01588659e-06 4.01612579e-06 3.61451312e-05\n",
            " 1.00400750e-04 1.96786816e-04 3.25301895e-04 4.85940691e-04\n",
            " 6.78712793e-04 9.03613924e-04 1.16063596e-03 1.44979416e-03\n",
            " 1.77108136e-03 2.12448649e-03 2.51003075e-03 2.92770402e-03\n",
            " 3.37749231e-03 3.85942264e-03 4.37348196e-03 4.91965376e-03\n",
            " 5.49797015e-03 6.10841531e-03 6.75097015e-03 7.42567237e-03\n",
            " 8.13250430e-03 8.87144171e-03 9.64253023e-03 1.04457475e-02\n",
            " 1.12810945e-02 1.21485433e-02 1.30481469e-02 1.39798801e-02\n",
            " 1.49437124e-02 1.59397013e-02 1.69678200e-02 1.80280358e-02\n",
            " 1.91204119e-02 2.02449169e-02 2.14015152e-02 2.25902777e-02\n",
            " 2.38111671e-02 2.50641499e-02 2.63492968e-02 2.76665743e-02\n",
            " 2.90159397e-02 3.03974729e-02 3.18111368e-02 3.32568847e-02\n",
            " 3.47348042e-02 3.62448543e-02 3.77869867e-02 3.93612906e-02\n",
            " 4.09677252e-02 4.26062420e-02 4.42769341e-02 4.59797531e-02\n",
            " 4.77146506e-02 4.94817309e-02 5.12809381e-02 5.31122200e-02\n",
            " 5.49756810e-02 5.68712763e-02 5.87989390e-02 6.07587919e-02\n",
            " 6.27507716e-02 6.47748783e-02 6.68310523e-02 6.89194202e-02\n",
            " 7.10399151e-02 7.31924698e-02 7.53772259e-02 7.75941014e-02\n",
            " 7.98430443e-02 8.21241811e-02 8.44374523e-02 8.67827758e-02\n",
            " 8.91603008e-02 9.15699527e-02 9.40116569e-02 9.64855701e-02\n",
            " 9.89916101e-02 1.01529695e-01 1.04099996e-01 1.06702417e-01\n",
            " 1.09336890e-01 1.12003572e-01 1.14702389e-01 1.17433242e-01\n",
            " 1.20196313e-01 1.22991510e-01 1.25818744e-01 1.28678203e-01\n",
            " 1.31569788e-01 1.34493411e-01 1.37449250e-01 1.40437216e-01\n",
            " 1.43457219e-01 1.46509454e-01 1.49593800e-01 1.52710199e-01\n",
            " 1.55858815e-01 1.59039557e-01 1.62252426e-01 1.65497318e-01\n",
            " 1.68774456e-01 1.72083706e-01 1.75424993e-01 1.78798497e-01\n",
            " 1.82204142e-01 1.85641810e-01 1.89111710e-01 1.92613736e-01\n",
            " 1.96147799e-01 1.99714079e-01 2.03312486e-01 2.06942931e-01\n",
            " 2.10605592e-01 2.14300394e-01 2.18027219e-01 2.21786276e-01\n",
            " 2.25577459e-01 2.29400665e-01 2.33256102e-01 2.37143680e-01\n",
            " 2.41063267e-01 2.45015085e-01 2.48999044e-01 2.53015012e-01\n",
            " 2.57063240e-01 2.61143565e-01 2.65255928e-01 2.69400537e-01\n",
            " 2.73577273e-01 2.77785987e-01 2.82026976e-01 2.86300093e-01\n",
            " 2.90605336e-01 2.94942588e-01 2.99312085e-01 3.03713709e-01\n",
            " 3.08147341e-01 3.12613249e-01 3.17111254e-01 3.21641266e-01\n",
            " 3.26203555e-01 3.30797940e-01 3.35424334e-01 3.40083003e-01\n",
            " 3.44773799e-01 3.49496573e-01 3.54251623e-01 3.59038800e-01\n",
            " 3.63857955e-01 3.68709385e-01 3.73592943e-01 3.78508508e-01\n",
            " 3.83456320e-01 3.88436258e-01 3.93448204e-01 3.98492396e-01\n",
            " 4.03568715e-01 4.08677042e-01 4.13817644e-01 4.18990344e-01\n",
            " 4.24195051e-01 4.29432034e-01 4.34701115e-01 4.40002203e-01\n",
            " 4.45335567e-01 4.50701058e-01 4.56098527e-01 4.61528271e-01\n",
            " 4.66990143e-01 4.72484171e-01 4.78010118e-01 4.83568400e-01\n",
            " 4.89158779e-01 4.94781137e-01 5.00435770e-01 5.06122589e-01\n",
            " 5.11841297e-01 5.17592371e-01 5.23375511e-01 5.29190660e-01\n",
            " 5.35038054e-01 5.40917635e-01 5.46829104e-01 5.52772939e-01\n",
            " 5.58748841e-01 5.64756751e-01 5.70796967e-01 5.76869249e-01\n",
            " 5.82973540e-01 5.89110136e-01 5.95278800e-01 6.01479471e-01\n",
            " 6.07712448e-01 6.13977551e-01 6.20274603e-01 6.26603961e-01\n",
            " 6.32965386e-01 6.39358819e-01 6.45784557e-01 6.52242422e-01\n",
            " 6.58732235e-01 6.65254354e-01 6.71808600e-01 6.78394794e-01\n",
            " 6.85013294e-01 6.91663980e-01 6.98346734e-01 7.05061436e-01\n",
            " 7.11808443e-01 7.18587637e-01 7.25398719e-01 7.32242107e-01\n",
            " 7.39117622e-01 7.46025085e-01 7.52964914e-01 7.59936810e-01\n",
            " 7.66940653e-01 7.73976862e-01 7.81045198e-01 7.88145423e-01\n",
            " 7.95277953e-01 8.02442670e-01 8.09639275e-01 8.16868246e-01\n",
            " 8.24129343e-01 8.31422329e-01 8.38747680e-01 8.46105158e-01\n",
            " 8.53494525e-01 8.60916257e-01 8.68370116e-01 8.75855863e-01\n",
            " 8.83373976e-01 8.90924215e-01 8.98506403e-01 9.06120896e-01\n",
            " 9.13767517e-01 9.21446025e-01 9.29156899e-01 9.36899960e-01\n",
            " 9.44674850e-01 9.52482104e-01 9.60321546e-01 9.68193054e-01\n",
            " 9.76096511e-01 9.84032273e-01 9.92000222e-01 1.00000000e+00]\n"
          ],
          "name": "stdout"
        }
      ]
    },
    {
      "metadata": {
        "id": "TtzKB8jjc7DU",
        "colab_type": "code",
        "colab": {}
      },
      "cell_type": "code",
      "source": [
        "#l1 loss\n",
        "\n",
        "l1_y_vals = tf.abs(target-x_vals)\n",
        "l1_y_out = sess.run(l1_y_vals)"
      ],
      "execution_count": 0,
      "outputs": []
    },
    {
      "metadata": {
        "id": "kRQzBi-Pc7DX",
        "colab_type": "code",
        "colab": {}
      },
      "cell_type": "code",
      "source": [
        "#Pseudo huber Loss\n",
        "# L = delta^2 * (sqrt(1 + ((pred - actual)/delta)^2) - 1)\n",
        "\n",
        "# Pseudo-Huber with delta = 0.25\n",
        "delta1 = tf.constant(0.25)\n",
        "phuber1_y_vals = tf.multiply(tf.square(delta1), tf.sqrt(1. + tf.square((target - x_vals)/delta1)) - 1.)\n",
        "phuber1_y_out = sess.run(phuber1_y_vals)\n",
        "\n",
        "# Pseudo-Huber with delta = 5\n",
        "delta2 = tf.constant(5.)\n",
        "phuber2_y_vals = tf.multiply(tf.square(delta2), tf.sqrt(1. + tf.square((target - x_vals)/delta2)) - 1.)\n",
        "phuber2_y_out = sess.run(phuber2_y_vals)\n"
      ],
      "execution_count": 0,
      "outputs": []
    },
    {
      "metadata": {
        "id": "LQiBYUcPc7Da",
        "colab_type": "code",
        "colab": {},
        "outputId": "1baf3061-fd9b-41f0-a00a-f3d1d76c6d3a"
      },
      "cell_type": "code",
      "source": [
        "#Plot the losses\n",
        "\n",
        "x_array = sess.run(x_vals)\n",
        "plt.plot(x_array, l2_y_out, 'b--', label = 'L2 loss')\n",
        "plt.plot(x_array, l1_y_out, 'r--', label='L1 Loss')\n",
        "plt.plot(x_array, phuber1_y_out, 'k-.', label='P-Huber Loss (0.25)')\n",
        "plt.plot(x_array, phuber2_y_out, 'g:', label='P-Huber Loss (5.0)')\n",
        "plt.ylim(-0.2, 0.4)\n",
        "plt.legend(loc='lower right', prop={'size': 11})\n",
        "plt.grid()\n",
        "plt.show()"
      ],
      "execution_count": 0,
      "outputs": [
        {
          "output_type": "display_data",
          "data": {
            "image/png": "[encoded data removed]",
            "text/plain": [
              "<Figure size 432x288 with 1 Axes>"
            ]
          },
          "metadata": {
            "tags": []
          }
        }
      ]
    },
    {
      "metadata": {
        "id": "-svdHlV9c7De",
        "colab_type": "text"
      },
      "cell_type": "markdown",
      "source": [
        "# categorical prediction"
      ]
    },
    {
      "metadata": {
        "id": "IJSUdusac7Df",
        "colab_type": "code",
        "colab": {}
      },
      "cell_type": "code",
      "source": [
        "x_vals = tf.linspace(-4., 5., 500)\n",
        "\n",
        "target = tf.constant(1.)\n",
        "targets = tf.fill([500,],1.)\n"
      ],
      "execution_count": 0,
      "outputs": []
    },
    {
      "metadata": {
        "id": "4dNWdaqwc7Di",
        "colab_type": "code",
        "colab": {}
      },
      "cell_type": "code",
      "source": [
        "# Hinge Loss -> max(0, 1-(pred*actual)): considered good for categorical predictions.\n",
        "\n",
        "hinge_y_vals = tf.maximum(0., 1. - tf.multiply(target, x_vals))\n",
        "hinge_y_out = sess.run(hinge_y_vals)"
      ],
      "execution_count": 0,
      "outputs": []
    },
    {
      "metadata": {
        "id": "CVNWm9Ync7Dl",
        "colab_type": "code",
        "colab": {}
      },
      "cell_type": "code",
      "source": [
        "# Cross entropy loss -> -actual * (log(pred)) - (1-actual)(log(1-pred))\n",
        "\n",
        "cross_entropy_y_vals = - tf.multiply(target, tf.log(x_vals)) - tf.multiply((1. - target), tf.log(1. - x_vals))\n",
        "\n",
        "cross_entropy_y_out = sess.run(cross_entropy_y_vals)"
      ],
      "execution_count": 0,
      "outputs": []
    },
    {
      "metadata": {
        "id": "4WK63SXJc7Dp",
        "colab_type": "code",
        "colab": {}
      },
      "cell_type": "code",
      "source": [
        "#sigmoid entropy loss\n",
        "# L = -actual * (log(sigmoid(pred))) - (1-actual)(log(1-sigmoid(pred)))\n",
        "#tf.expand_dims -> used for adding a dimnesioning value\n",
        "\n",
        "x_val_input = tf.expand_dims(x_vals,1)\n",
        "target_input= tf.expand_dims(targets,1)\n",
        "\n",
        "sigmoid_y_vals = tf.nn.sigmoid_cross_entropy_with_logits(logits = x_val_input, labels = target_input)\n",
        "sigmoid_y_out = sess.run(sigmoid_y_vals)"
      ],
      "execution_count": 0,
      "outputs": []
    },
    {
      "metadata": {
        "id": "aCzOv2Hrc7Ds",
        "colab_type": "code",
        "colab": {}
      },
      "cell_type": "code",
      "source": [
        "# Weighted (softmax) cross entropy loss\n",
        "# L = -actual * (log(pred)) * weights - (1-actual)(log(1-pred))\n",
        "# or\n",
        "# L = (1 - pred) * actual + (1 + (weights - 1) * pred) * log(1 + exp(-actual))\n",
        "weight = tf.constant(0.5)\n",
        "xentropy_weighted_y_vals = tf.nn.weighted_cross_entropy_with_logits(logits=x_vals,\n",
        "                                                                    targets=targets,\n",
        "                                                                    pos_weight=weight)\n",
        "xentropy_weighted_y_out = sess.run(xentropy_weighted_y_vals)"
      ],
      "execution_count": 0,
      "outputs": []
    },
    {
      "metadata": {
        "id": "cmIzNzNmc7Du",
        "colab_type": "code",
        "colab": {},
        "outputId": "dbf71ac8-f5ee-4916-ffa7-cce5e8ce6292"
      },
      "cell_type": "code",
      "source": [
        "x_array = sess.run(x_vals)\n",
        "x_array = sess.run(x_vals)\n",
        "plt.plot(x_array, hinge_y_out, 'b-', label='Hinge Loss')\n",
        "plt.plot(x_array, cross_entropy_y_out, 'r--', label='Cross Entropy Loss')\n",
        "plt.plot(x_array, sigmoid_y_out, 'k-.', label='Cross Entropy Sigmoid Loss')\n",
        "plt.plot(x_array, xentropy_weighted_y_out, 'g:', label='Weighted Cross Entropy Loss (x0.5)')\n",
        "plt.ylim(-1.5, 3)\n",
        "plt.legend(loc='lower left', prop={'size': 8})\n",
        "plt.grid()\n",
        "plt.show()"
      ],
      "execution_count": 0,
      "outputs": [
        {
          "output_type": "display_data",
          "data": {
            "image/png": "[encoded data removed]",
            "text/plain": [
              "<Figure size 432x288 with 1 Axes>"
            ]
          },
          "metadata": {
            "tags": []
          }
        }
      ]
    },
    {
      "metadata": {
        "id": "iCPfW5lkc7D0",
        "colab_type": "code",
        "colab": {},
        "outputId": "fa284275-dc81-45c2-e6ac-f058e1d8cd82"
      },
      "cell_type": "code",
      "source": [
        "# Softmax entropy loss\n",
        "# L = -actual * (log(softmax(pred))) - (1-actual)(log(1-softmax(pred)))\n",
        "unscaled_logits = tf.constant([[1., -3., 10.]])\n",
        "target_dist = tf.constant([[0.1, 0.02, 0.88]])\n",
        "softmax_xentropy = tf.nn.softmax_cross_entropy_with_logits_v2(logits=unscaled_logits,\n",
        "                                                              labels=target_dist)\n",
        "print(sess.run(softmax_xentropy))\n",
        "\n",
        "# Sparse entropy loss\n",
        "# Use when classes and targets have to be mutually exclusive\n",
        "# L = sum( -actual * log(pred) )\n",
        "unscaled_logits = tf.constant([[1., -3., 10.]])\n",
        "sparse_target_dist = tf.constant([2])\n",
        "sparse_xentropy =  tf.nn.sparse_softmax_cross_entropy_with_logits(logits=unscaled_logits,\n",
        "                                                                  labels=sparse_target_dist)\n",
        "print(sess.run(sparse_xentropy))"
      ],
      "execution_count": 0,
      "outputs": [
        {
          "output_type": "stream",
          "text": [
            "[1.1601256]\n",
            "[0.00012564]\n"
          ],
          "name": "stdout"
        }
      ]
    },
    {
      "metadata": {
        "id": "df-9XhpAc7D3",
        "colab_type": "code",
        "colab": {}
      },
      "cell_type": "code",
      "source": [
        ""
      ],
      "execution_count": 0,
      "outputs": []
    }
  ]
}