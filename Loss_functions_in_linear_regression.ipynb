{
  "nbformat": 4,
  "nbformat_minor": 0,
  "metadata": {
    "colab": {
      "name": "Loss functions in linear regression",
      "version": "0.3.2",
      "provenance": [],
      "include_colab_link": true
    },
    "kernelspec": {
      "display_name": "Python 3",
      "language": "python",
      "name": "python3"
    }
  },
  "cells": [
    {
      "cell_type": "markdown",
      "metadata": {
        "id": "view-in-github",
        "colab_type": "text"
      },
      "source": [
        "[View in Colaboratory](https://colab.research.google.com/github/findingfoot/ML_practice-codes/blob/master/Loss_functions_in_linear_regression.ipynb)"
      ]
    },
    {
      "metadata": {
        "id": "9Y0k1CJAbFpK",
        "colab_type": "code",
        "colab": {}
      },
      "cell_type": "code",
      "source": [
        "import matplotlib.pyplot as plt\n",
        "import numpy as np\n",
        "import tensorflow as tf\n",
        "from sklearn import datasets\n",
        "from tensorflow.python.framework import ops\n",
        "ops.reset_default_graph()\n",
        "\n",
        "sess = tf.Session()"
      ],
      "execution_count": 0,
      "outputs": []
    },
    {
      "metadata": {
        "id": "0c6_I_tUbFpN",
        "colab_type": "code",
        "colab": {}
      },
      "cell_type": "code",
      "source": [
        "iris = datasets.load_iris()"
      ],
      "execution_count": 0,
      "outputs": []
    },
    {
      "metadata": {
        "id": "vAAPFXJKbFpQ",
        "colab_type": "code",
        "colab": {
          "base_uri": "https://localhost:8080/",
          "height": 34
        },
        "outputId": "7a7c34e3-58e8-4198-89e7-720ce72fb8e0"
      },
      "cell_type": "code",
      "source": [
        "'''\n",
        "iris.data = [(Sepal Length, Sepal Width, Petal Length, Petal Width)]\n",
        "equation to solve : y = Ax+b\n",
        "where x is the petal width and y is the sepal length\n",
        "'''"
      ],
      "execution_count": 28,
      "outputs": [
        {
          "output_type": "execute_result",
          "data": {
            "text/plain": [
              "'\\niris.data = [(Sepal Length, Sepal Width, Petal Length, Petal Width)]\\nequation to solve : y = Ax+b\\nwhere x is the petal width and y is the sepal length\\n'"
            ]
          },
          "metadata": {
            "tags": []
          },
          "execution_count": 28
        }
      ]
    },
    {
      "metadata": {
        "id": "jzEri3hPbFpV",
        "colab_type": "code",
        "colab": {}
      },
      "cell_type": "code",
      "source": [
        "x_vals = np.array([x[3] for x in iris.data]) # petal width\n",
        "y_vals = np.array([x[0] for x in iris.data]) #sepal length\n"
      ],
      "execution_count": 0,
      "outputs": []
    },
    {
      "metadata": {
        "id": "GrsAG-pRbFpZ",
        "colab_type": "code",
        "colab": {}
      },
      "cell_type": "code",
      "source": [
        "# we need a batch size\n",
        "\n",
        "batch_size = 25\n",
        "learning_rate = 0.25\n",
        "iterations = 50"
      ],
      "execution_count": 0,
      "outputs": []
    },
    {
      "metadata": {
        "id": "L5QCUAB-bFpb",
        "colab_type": "code",
        "colab": {}
      },
      "cell_type": "code",
      "source": [
        "#placeholder for the data and target\n",
        "\n",
        "x_data = tf.placeholder(shape = [None, 1], dtype=tf.float32)\n",
        "y_target = tf.placeholder(shape = [None, 1], dtype = tf.float32)\n",
        "\n",
        "#We also need variables like A and b in our case here\n",
        "\n",
        "A = tf.Variable(tf.random_normal(shape = [1,1]))\n",
        "b = tf.Variable(tf.random_normal(shape = [1,1]))\n"
      ],
      "execution_count": 0,
      "outputs": []
    },
    {
      "metadata": {
        "id": "jm2xMKorbFpe",
        "colab_type": "code",
        "colab": {}
      },
      "cell_type": "code",
      "source": [
        "#Model operations\n",
        "\n",
        "model_output = tf.add((tf.matmul(x_data, A)), b)\n",
        "\n",
        "#Loss function\n",
        "\n",
        "l1_loss = tf.reduce_mean(tf.abs(y_target - model_output))"
      ],
      "execution_count": 0,
      "outputs": []
    },
    {
      "metadata": {
        "id": "RlEnBj81bFph",
        "colab_type": "code",
        "colab": {}
      },
      "cell_type": "code",
      "source": [
        "#optimizer\n",
        "\n",
        "my_opt_l1 = tf.train.GradientDescentOptimizer(learning_rate)\n",
        "train_step_l1 = my_opt.minimize(l1_loss)\n",
        "\n",
        "#initialize the variables\n",
        "\n",
        "init = tf.global_variables_initializer()\n",
        "sess.run(init)\n"
      ],
      "execution_count": 0,
      "outputs": []
    },
    {
      "metadata": {
        "id": "3Pa_TpOAbFpl",
        "colab_type": "code",
        "colab": {
          "base_uri": "https://localhost:8080/",
          "height": 51
        },
        "outputId": "5793fa08-1153-4bd0-c69c-5d2895024ef6"
      },
      "cell_type": "code",
      "source": [
        "loss_vec_l1 = []\n",
        "for i in range(iterations):\n",
        "    rand_index = np.random.choice(len(x_vals), size=batch_size)\n",
        "    rand_x = np.transpose([x_vals[rand_index]])\n",
        "    rand_y = np.transpose([y_vals[rand_index]])\n",
        "    sess.run(train_step_l1, feed_dict={x_data: rand_x, y_target: rand_y})\n",
        "    temp_loss_l1 = sess.run(l1_loss, feed_dict={x_data: rand_x, y_target: rand_y})\n",
        "    loss_vec_l1.append(temp_loss_l1)\n",
        "    if (i+1)%25==0:\n",
        "        print('Step #' + str(i+1) + ' A = ' + str(sess.run(A)) + ' b = ' + str(sess.run(b)))\n",
        "    "
      ],
      "execution_count": 44,
      "outputs": [
        {
          "output_type": "stream",
          "text": [
            "Step #25 A = [[1.6639633]] b = [[1.9827298]]\n",
            "Step #50 A = [[2.171163]] b = [[2.7327297]]\n"
          ],
          "name": "stdout"
        }
      ]
    },
    {
      "metadata": {
        "id": "-RNNCEWh9nK-",
        "colab_type": "code",
        "colab": {}
      },
      "cell_type": "code",
      "source": [
        "# L2 Loss\n",
        "# Reinitialize graph\n",
        "ops.reset_default_graph()\n",
        "\n",
        "# Create graph\n",
        "sess = tf.Session()"
      ],
      "execution_count": 0,
      "outputs": []
    },
    {
      "metadata": {
        "id": "TjagHQqx9nHm",
        "colab_type": "code",
        "colab": {}
      },
      "cell_type": "code",
      "source": [
        "\n",
        "# Initialize placeholders\n",
        "x_data = tf.placeholder(shape=[None, 1], dtype=tf.float32)\n",
        "y_target = tf.placeholder(shape=[None, 1], dtype=tf.float32)\n",
        "\n",
        "# Create variables for linear regression\n",
        "A = tf.Variable(tf.random_normal(shape=[1,1]))\n",
        "b = tf.Variable(tf.random_normal(shape=[1,1]))\n",
        "\n",
        "# Declare model operations\n",
        "model_output = tf.add(tf.matmul(x_data, A), b)"
      ],
      "execution_count": 0,
      "outputs": []
    },
    {
      "metadata": {
        "id": "TyyoIYLU9nEO",
        "colab_type": "code",
        "colab": {}
      },
      "cell_type": "code",
      "source": [
        "\n",
        "# Declare loss functions\n",
        "loss_l2 = tf.reduce_mean(tf.square(y_target - model_output))\n",
        "\n",
        "# Declare optimizers\n",
        "my_opt_l2 = tf.train.GradientDescentOptimizer(learning_rate)\n",
        "train_step_l2 = my_opt_l2.minimize(loss_l2)\n",
        "\n",
        "# Initialize variables\n",
        "init = tf.global_variables_initializer()\n",
        "sess.run(init)"
      ],
      "execution_count": 0,
      "outputs": []
    },
    {
      "metadata": {
        "id": "oapbmaNf9m-O",
        "colab_type": "code",
        "colab": {
          "base_uri": "https://localhost:8080/",
          "height": 51
        },
        "outputId": "263595bc-fb33-4d41-cf65-b6c31fd241ff"
      },
      "cell_type": "code",
      "source": [
        "loss_vec_l2 = []\n",
        "for i in range(iterations):\n",
        "    rand_index = np.random.choice(len(x_vals), size=batch_size)\n",
        "    rand_x = np.transpose([x_vals[rand_index]])\n",
        "    rand_y = np.transpose([y_vals[rand_index]])\n",
        "    sess.run(train_step_l2, feed_dict={x_data: rand_x, y_target: rand_y})\n",
        "    temp_loss_l2 = sess.run(loss_l2, feed_dict={x_data: rand_x, y_target: rand_y})\n",
        "    loss_vec_l2.append(temp_loss_l2)\n",
        "    if (i+1)%25==0:\n",
        "        print('Step #' + str(i+1) + ' A = ' + str(sess.run(A)) + ' b = ' + str(sess.run(b)))"
      ],
      "execution_count": 48,
      "outputs": [
        {
          "output_type": "stream",
          "text": [
            "Step #25 A = [[1.0218471]] b = [[4.608951]]\n",
            "Step #50 A = [[0.8732168]] b = [[4.754912]]\n"
          ],
          "name": "stdout"
        }
      ]
    },
    {
      "metadata": {
        "id": "PTyDPjQcbFps",
        "colab_type": "code",
        "colab": {}
      },
      "cell_type": "code",
      "source": [
        "from jupyterthemes import jtplot\n",
        "\n",
        "jtplot.style()\n",
        "\n",
        "jtplot.style(theme='solarizedd')"
      ],
      "execution_count": 0,
      "outputs": []
    },
    {
      "metadata": {
        "id": "3hzTpcV79mue",
        "colab_type": "code",
        "colab": {
          "base_uri": "https://localhost:8080/",
          "height": 389
        },
        "outputId": "b84a9f56-c5b5-4436-df4b-e653d2eea966"
      },
      "cell_type": "code",
      "source": [
        "# Plot loss over time\n",
        "plt.plot(loss_vec_l1, 'g-', label='L1 Loss')\n",
        "plt.plot(loss_vec_l2, 'r--', label='L2 Loss')\n",
        "plt.title('L1 and L2 Loss per Generation')\n",
        "plt.xlabel('Generation')\n",
        "plt.ylabel('L1 Loss')\n",
        "plt.legend(loc='upper right')\n",
        "plt.show()"
      ],
      "execution_count": 51,
      "outputs": [
        {
          "output_type": "display_data",
          "data": {
            "image/png": "[encoded data removed]",
            "text/plain": [
              "<matplotlib.figure.Figure at 0x7fbf5bf091d0>"
            ]
          },
          "metadata": {
            "tags": []
          }
        }
      ]
    },
    {
      "metadata": {
        "id": "AbZIDoqGbFpp",
        "colab_type": "code",
        "colab": {}
      },
      "cell_type": "code",
      "source": [
        ""
      ],
      "execution_count": 0,
      "outputs": []
    },
    {
      "metadata": {
        "id": "IWsyRAmkbQW0",
        "colab_type": "text"
      },
      "cell_type": "markdown",
      "source": [
        ""
      ]
    },
    {
      "metadata": {
        "id": "HMdH6Ga2bFpv",
        "colab_type": "code",
        "colab": {}
      },
      "cell_type": "code",
      "source": [
        ""
      ],
      "execution_count": 0,
      "outputs": []
    },
    {
      "metadata": {
        "id": "4pPNnW08bUn9",
        "colab_type": "code",
        "colab": {}
      },
      "cell_type": "code",
      "source": [
        ""
      ],
      "execution_count": 0,
      "outputs": []
    }
  ]
}