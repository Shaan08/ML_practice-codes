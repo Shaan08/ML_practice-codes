{
  "nbformat": 4,
  "nbformat_minor": 0,
  "metadata": {
    "colab": {
      "name": "Tensorflow placeholders",
      "version": "0.3.2",
      "provenance": [],
      "include_colab_link": true
    },
    "kernelspec": {
      "name": "python3",
      "display_name": "Python 3"
    }
  },
  "cells": [
    {
      "cell_type": "markdown",
      "metadata": {
        "id": "view-in-github",
        "colab_type": "text"
      },
      "source": [
        "[View in Colaboratory](https://colab.research.google.com/github/pk1412/ML_practice-codes/blob/master/Tensorflow_placeholders.ipynb)"
      ]
    },
    {
      "metadata": {
        "id": "w86mTdWPDkNY",
        "colab_type": "code",
        "colab": {}
      },
      "cell_type": "code",
      "source": [
        "import numpy as np\n",
        "import tensorflow as tf\n",
        "\n",
        "#resetting the graph\n",
        "from tensorflow.python.framework import ops\n",
        "ops.reset_default_graph()"
      ],
      "execution_count": 0,
      "outputs": []
    },
    {
      "metadata": {
        "id": "uaQbBZX0Dvrt",
        "colab_type": "code",
        "colab": {}
      },
      "cell_type": "code",
      "source": [
        "sess = tf.Session()"
      ],
      "execution_count": 0,
      "outputs": []
    },
    {
      "metadata": {
        "id": "t78YVK1dD6ol",
        "colab_type": "code",
        "colab": {}
      },
      "cell_type": "code",
      "source": [
        "var = tf.placeholder(tf.float32, shape = (4,4)) #shape can be list or tuple\n"
      ],
      "execution_count": 0,
      "outputs": []
    },
    {
      "metadata": {
        "id": "jpjEAOeSK5Ey",
        "colab_type": "code",
        "colab": {
          "base_uri": "https://localhost:8080/",
          "height": 85
        },
        "outputId": "cad9855d-64d4-4c9b-9851-110182d1cb63"
      },
      "cell_type": "code",
      "source": [
        "#let us create an input data and operation to visualize on tensorboard. feed_dict to feed in the value of x into the graph\n",
        "#keep the shape same as placeholder\n",
        "\n",
        "input_data = np.random.random((4,4))\n",
        "\n",
        "\n",
        "#operation same as input\n",
        "\n",
        "op = tf.identity(var)\n",
        "\n",
        "print(sess.run(op, feed_dict = {var: input_data}))"
      ],
      "execution_count": 38,
      "outputs": [
        {
          "output_type": "stream",
          "text": [
            "[[0.2683731  0.6823191  0.9123826  0.03228896]\n",
            " [0.8759085  0.46514112 0.93744    0.08851378]\n",
            " [0.9647845  0.04810917 0.09625556 0.13192602]\n",
            " [0.64295596 0.9150679  0.16171238 0.57204175]]\n"
          ],
          "name": "stdout"
        }
      ]
    },
    {
      "metadata": {
        "id": "5lfS0-cZLu25",
        "colab_type": "code",
        "colab": {}
      },
      "cell_type": "code",
      "source": [
        "\n",
        "merged = tf.summary.merge_all()\n",
        "writer = tf.summary.FileWriter('/tmp/variable_logs', sess.graph)"
      ],
      "execution_count": 0,
      "outputs": []
    },
    {
      "metadata": {
        "id": "PUCDja8MXItg",
        "colab_type": "code",
        "colab": {}
      },
      "cell_type": "code",
      "source": [
        ""
      ],
      "execution_count": 0,
      "outputs": []
    }
  ]
}