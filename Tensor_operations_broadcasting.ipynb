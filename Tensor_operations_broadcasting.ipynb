{
  "nbformat": 4,
  "nbformat_minor": 0,
  "metadata": {
    "colab": {
      "name": "Tensor operations broadcasting",
      "version": "0.3.2",
      "provenance": [],
      "include_colab_link": true
    },
    "kernelspec": {
      "name": "python3",
      "display_name": "Python 3"
    }
  },
  "cells": [
    {
      "cell_type": "markdown",
      "metadata": {
        "id": "view-in-github",
        "colab_type": "text"
      },
      "source": [
        "[View in Colaboratory](https://colab.research.google.com/github/findingfoot/ML_practice-codes/blob/master/Tensor_operations_broadcasting.ipynb)"
      ]
    },
    {
      "metadata": {
        "id": "CtkBiT7Nkx8g",
        "colab_type": "code",
        "colab": {}
      },
      "cell_type": "code",
      "source": [
        "import os\n",
        "import tensorflow as tf\n",
        "import numpy as np\n",
        "import matplotlib.pyplot as plt\n",
        "\n",
        "from tensorflow.python.framework import ops\n",
        "ops.reset_default_graph()\n",
        "import warnings\n",
        "warnings.filterwarnings('ignore')\n",
        "\n",
        "sess= tf.Session()"
      ],
      "execution_count": 0,
      "outputs": []
    },
    {
      "metadata": {
        "id": "GUswfadckz6-",
        "colab_type": "code",
        "colab": {}
      },
      "cell_type": "code",
      "source": [
        "my_array = np.array([[1.,6.,8.,9.],[5.,6.,7.,9.],[45.,65.,456.,4.]])\n",
        "\n",
        "x_vals = np.array([my_array, my_array + 1])\n",
        "\n",
        "x_data = tf.placeholder(tf.float32, shape=(3,4))\n",
        "\n",
        "m1 = tf.constant([[1.],[0.],[-1.],[2.]])\n",
        "\n",
        "m2 = tf.constant([[2.]])\n",
        "\n",
        "a1 = tf.constant([[10.]])"
      ],
      "execution_count": 0,
      "outputs": []
    },
    {
      "metadata": {
        "id": "Hp7tQVCUlHis",
        "colab_type": "code",
        "colab": {}
      },
      "cell_type": "code",
      "source": [
        "prod1 = tf.matmul(x_data, m1)\n",
        "\n",
        "prod2 = tf.matmul(prod1, m2)\n",
        "\n",
        "add1 = tf.add(prod2, a1)"
      ],
      "execution_count": 0,
      "outputs": []
    },
    {
      "metadata": {
        "id": "O_DTGYg4l4_U",
        "colab_type": "code",
        "colab": {
          "base_uri": "https://localhost:8080/",
          "height": 119
        },
        "outputId": "8f1f652f-fb11-411e-cacc-a72bf612d349"
      },
      "cell_type": "code",
      "source": [
        "for num in x_vals:\n",
        "  print(sess.run(add1, feed_dict={x_data:num}))"
      ],
      "execution_count": 15,
      "outputs": [
        {
          "output_type": "stream",
          "text": [
            "[[  32.]\n",
            " [  42.]\n",
            " [-796.]]\n",
            "[[  36.]\n",
            " [  46.]\n",
            " [-792.]]\n"
          ],
          "name": "stdout"
        }
      ]
    },
    {
      "metadata": {
        "id": "l0s9Bk_aoRtQ",
        "colab_type": "code",
        "colab": {}
      },
      "cell_type": "code",
      "source": [
        "merged = tf.summary.merge_all(key='summaries')\n",
        "\n",
        "if not os.path.exists('tensorboard_logs/'):\n",
        "    os.makedirs('tensorboard_logs/')\n",
        "\n",
        "my_writer = tf.summary.FileWriter('tensorboard_logs/', sess.graph)"
      ],
      "execution_count": 0,
      "outputs": []
    }
  ]
}