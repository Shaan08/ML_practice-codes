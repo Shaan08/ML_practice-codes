{
  "nbformat": 4,
  "nbformat_minor": 0,
  "metadata": {
    "colab": {
      "name": "Ml_Pipelining.ipynb",
      "version": "0.3.2",
      "provenance": [],
      "include_colab_link": true
    },
    "kernelspec": {
      "name": "python3",
      "display_name": "Python 3"
    }
  },
  "cells": [
    {
      "cell_type": "markdown",
      "metadata": {
        "id": "view-in-github",
        "colab_type": "text"
      },
      "source": [
        "<a href=\"https://colab.research.google.com/github/findingfoot/ML_practice-codes/blob/master/Ml_Pipelining.ipynb\" target=\"_parent\"><img src=\"https://colab.research.google.com/assets/colab-badge.svg\" alt=\"Open In Colab\"/></a>"
      ]
    },
    {
      "metadata": {
        "id": "QZ6c7XdDj0PG",
        "colab_type": "code",
        "colab": {}
      },
      "cell_type": "code",
      "source": [
        "import numpy as np\n",
        "import matplotlib.pyplot as plt\n",
        "import pandas as pd\n",
        "from sklearn import datasets\n",
        "from sklearn.decomposition import PCA\n",
        "from sklearn.linear_model import SGDClassifier\n",
        "from sklearn.pipeline import Pipeline\n",
        "from sklearn.model_selection import GridSearchCV"
      ],
      "execution_count": 0,
      "outputs": []
    },
    {
      "metadata": {
        "id": "jPYM2oAYkD6t",
        "colab_type": "code",
        "colab": {}
      },
      "cell_type": "code",
      "source": [
        "#Defining a pipeline observing the effects of PCA and classifier regularization\n",
        "\n",
        "logistic = SGDClassifier(loss = 'log', early_stopping=True,max_iter = 10000, tol=1e-5, random_state=0)\n",
        "\n",
        "pca = PCA()\n",
        "pipe = Pipeline(steps=[('pca', pca), ('logistic', logistic)])"
      ],
      "execution_count": 0,
      "outputs": []
    },
    {
      "metadata": {
        "id": "cZq7Hd-HlKRF",
        "colab_type": "code",
        "colab": {}
      },
      "cell_type": "code",
      "source": [
        "#load the datasets \n",
        "\n",
        "digits = datasets.load_digits()\n",
        "X_digits = digits.data\n",
        "y_digits = digits.target"
      ],
      "execution_count": 0,
      "outputs": []
    },
    {
      "metadata": {
        "id": "6Jj7-mXTmAMm",
        "colab_type": "code",
        "colab": {}
      },
      "cell_type": "code",
      "source": [
        "#grid search for the parameters\n",
        "\n"
      ],
      "execution_count": 0,
      "outputs": []
    },
    {
      "metadata": {
        "id": "ary5BOvQ0cOS",
        "colab_type": "code",
        "colab": {
          "base_uri": "https://localhost:8080/",
          "height": 34
        },
        "outputId": "431507e5-43cb-41fb-f5a0-2d702599f96a"
      },
      "cell_type": "code",
      "source": [
        "param_grid = {\n",
        "    'pca__n_components': [5, 20, 30, 40, 50, 64],\n",
        "    'logistic__alpha': np.logspace(-4, 4, 5),\n",
        "}\n",
        "search = GridSearchCV(pipe, param_grid, iid=False, cv=5,\n",
        "                      return_train_score=False)\n",
        "search.fit(X_digits, y_digits)\n",
        "\n",
        "print(\"best parameter (CV Score = {})\".format(search.best_params_) )"
      ],
      "execution_count": 21,
      "outputs": [
        {
          "output_type": "stream",
          "text": [
            "best parameter (CV Score = {'logistic__alpha': 0.01, 'pca__n_components': 64})\n"
          ],
          "name": "stdout"
        }
      ]
    },
    {
      "metadata": {
        "id": "O25BxWz00xiY",
        "colab_type": "code",
        "colab": {
          "base_uri": "https://localhost:8080/",
          "height": 51
        },
        "outputId": "4e5dff4e-22f4-434f-80bc-7cdc0cbd81a6"
      },
      "cell_type": "code",
      "source": [
        "pca.fit(X_digits)"
      ],
      "execution_count": 22,
      "outputs": [
        {
          "output_type": "execute_result",
          "data": {
            "text/plain": [
              "PCA(copy=True, iterated_power='auto', n_components=None, random_state=None,\n",
              "  svd_solver='auto', tol=0.0, whiten=False)"
            ]
          },
          "metadata": {
            "tags": []
          },
          "execution_count": 22
        }
      ]
    },
    {
      "metadata": {
        "id": "VhUBTHpl3pbv",
        "colab_type": "code",
        "colab": {
          "base_uri": "https://localhost:8080/",
          "height": 609
        },
        "outputId": "a06c001b-32f6-44f8-f454-3c3f8e7f5b6f"
      },
      "cell_type": "code",
      "source": [
        "fig, (ax0, ax1) = plt.subplots(nrows=2, sharex=True, figsize =(10,10))\n",
        "\n",
        "ax0.plot(pca.explained_variance_ratio_, linewidth = 2)\n",
        "ax0.set_ylabel('PCA explained Variance ratio')\n",
        "\n",
        "ax0.axvline(search.best_estimator_.named_steps['pca'].n_components)"
      ],
      "execution_count": 27,
      "outputs": [
        {
          "output_type": "execute_result",
          "data": {
            "text/plain": [
              "<matplotlib.lines.Line2D at 0x7f64c6b652b0>"
            ]
          },
          "metadata": {
            "tags": []
          },
          "execution_count": 27
        },
        {
          "output_type": "display_data",
          "data": {
            "image/png": "[encoded data removed]",
            "text/plain": [
              "<Figure size 720x720 with 2 Axes>"
            ]
          },
          "metadata": {
            "tags": []
          }
        }
      ]
    },
    {
      "metadata": {
        "id": "HbAmfSrX4YeZ",
        "colab_type": "code",
        "colab": {}
      },
      "cell_type": "code",
      "source": [
        ""
      ],
      "execution_count": 0,
      "outputs": []
    }
  ]
}