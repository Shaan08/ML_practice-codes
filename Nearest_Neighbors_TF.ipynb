{
  "nbformat": 4,
  "nbformat_minor": 0,
  "metadata": {
    "colab": {
      "name": "Nearest Neighbors TF.ipynb",
      "version": "0.3.2",
      "provenance": [],
      "include_colab_link": true
    },
    "kernelspec": {
      "display_name": "Python 3",
      "language": "python",
      "name": "python3"
    }
  },
  "cells": [
    {
      "cell_type": "markdown",
      "metadata": {
        "id": "view-in-github",
        "colab_type": "text"
      },
      "source": [
        "[View in Colaboratory](https://colab.research.google.com/github/findingfoot/ML_practice-codes/blob/master/Nearest_Neighbors_TF.ipynb)"
      ]
    },
    {
      "metadata": {
        "id": "L-Bd5QxjvQ6h",
        "colab_type": "code",
        "colab": {}
      },
      "cell_type": "code",
      "source": [
        "import matplotlib.pyplot as plt\n",
        "import numpy as np\n",
        "import tensorflow as tf\n",
        "from tensorflow.python.framework import ops\n",
        "ops.reset_default_graph()\n",
        "from sklearn import datasets\n",
        "import requests"
      ],
      "execution_count": 0,
      "outputs": []
    },
    {
      "metadata": {
        "id": "WPgK9CwsvQ6l",
        "colab_type": "code",
        "colab": {}
      },
      "cell_type": "code",
      "source": [
        "sess = tf.Session()"
      ],
      "execution_count": 0,
      "outputs": []
    },
    {
      "metadata": {
        "id": "smUS-3TwvQ6o",
        "colab_type": "code",
        "colab": {}
      },
      "cell_type": "code",
      "source": [
        "housing_url = 'https://archive.ics.uci.edu/ml/machine-learning-databases/housing/housing.data'\n",
        "\n",
        "headers = ['CRIM', 'ZN', 'INDUS', 'CHAS', 'NOX', 'RM', 'AGE', 'DIS', 'RAD', 'TAX', \n",
        "           'PTRATIO', 'B', 'LSTAT', 'MEDV']\n",
        "columns = ['CRIM', 'INDUS', 'NOX', 'RM', 'AGE', 'DIS', 'TAX', 'PTRATIO', 'B', 'LSTAT']\n",
        "\n",
        "features = len(columns)\n",
        "\n",
        "housing_file = requests.get(housing_url)\n",
        "housing_data = [[float(x) for x in y.split(' ') if len(x)>=1] for y in housing_file.text.split('\\n') if len(y)>=1]"
      ],
      "execution_count": 0,
      "outputs": []
    },
    {
      "metadata": {
        "id": "MBAPQI8ivQ6r",
        "colab_type": "code",
        "colab": {}
      },
      "cell_type": "code",
      "source": [
        "y_vals = np.transpose([np.array([y[13] for y in housing_data ])])\n",
        "\n",
        "x_vals = np.array([[x for i,x in enumerate(y) if headers[i] in columns] for y in housing_data])"
      ],
      "execution_count": 0,
      "outputs": []
    },
    {
      "metadata": {
        "id": "idvp-uvivQ6t",
        "colab_type": "code",
        "colab": {}
      },
      "cell_type": "code",
      "source": [
        "#do the min max scaling - normailizing the data\n",
        "x_vals = (x_vals - x_vals.min(0)) / x_vals.ptp(0)"
      ],
      "execution_count": 0,
      "outputs": []
    },
    {
      "metadata": {
        "id": "tQM8f7PrvQ6w",
        "colab_type": "code",
        "colab": {},
        "outputId": "579da831-d2d3-4b76-aefe-5bc558092c1f"
      },
      "cell_type": "code",
      "source": [
        "x_vals"
      ],
      "execution_count": 0,
      "outputs": [
        {
          "output_type": "execute_result",
          "data": {
            "text/plain": [
              "array([[0.00000000e+00, 6.78152493e-02, 3.14814815e-01, ...,\n",
              "        2.87234043e-01, 1.00000000e+00, 8.96799117e-02],\n",
              "       [2.35922539e-04, 2.42302053e-01, 1.72839506e-01, ...,\n",
              "        5.53191489e-01, 1.00000000e+00, 2.04470199e-01],\n",
              "       [2.35697744e-04, 2.42302053e-01, 1.72839506e-01, ...,\n",
              "        5.53191489e-01, 9.89737254e-01, 6.34657837e-02],\n",
              "       ...,\n",
              "       [6.11892474e-04, 4.20454545e-01, 3.86831276e-01, ...,\n",
              "        8.93617021e-01, 1.00000000e+00, 1.07891832e-01],\n",
              "       [1.16072990e-03, 4.20454545e-01, 3.86831276e-01, ...,\n",
              "        8.93617021e-01, 9.91300620e-01, 1.31070640e-01],\n",
              "       [4.61841693e-04, 4.20454545e-01, 3.86831276e-01, ...,\n",
              "        8.93617021e-01, 1.00000000e+00, 1.69701987e-01]])"
            ]
          },
          "metadata": {
            "tags": []
          },
          "execution_count": 48
        }
      ]
    },
    {
      "metadata": {
        "id": "lZ4X5eiMvQ61",
        "colab_type": "code",
        "colab": {}
      },
      "cell_type": "code",
      "source": [
        "seed = 23\n",
        "np.random.seed(seed)\n",
        "train_indices = np.random.choice(len(x_vals), round(len(x_vals) * 0.8), replace=False)\n",
        "test_indices = np.array(list(set(range(len(x_vals))) - set(train_indices)))"
      ],
      "execution_count": 0,
      "outputs": []
    },
    {
      "metadata": {
        "id": "VkblPcYhvQ64",
        "colab_type": "code",
        "colab": {}
      },
      "cell_type": "code",
      "source": [
        "x_vals_train = x_vals[train_indices]\n",
        "x_vals_test = x_vals[test_indices]\n",
        "\n",
        "y_vals_train = y_vals[train_indices]\n",
        "y_vals_test = y_vals[test_indices]\n"
      ],
      "execution_count": 0,
      "outputs": []
    },
    {
      "metadata": {
        "id": "8Gzrgu26vQ67",
        "colab_type": "code",
        "colab": {},
        "outputId": "ae94132d-7614-4812-da2c-23d2a224f0e0"
      },
      "cell_type": "code",
      "source": [
        "x_vals_train.shape"
      ],
      "execution_count": 0,
      "outputs": [
        {
          "output_type": "execute_result",
          "data": {
            "text/plain": [
              "(405, 10)"
            ]
          },
          "metadata": {
            "tags": []
          },
          "execution_count": 54
        }
      ]
    },
    {
      "metadata": {
        "id": "HsWTLos6vQ6_",
        "colab_type": "code",
        "colab": {},
        "outputId": "89ace427-7a37-47f8-e3c5-c32614474003"
      },
      "cell_type": "code",
      "source": [
        "y_vals_train.shape"
      ],
      "execution_count": 0,
      "outputs": [
        {
          "output_type": "execute_result",
          "data": {
            "text/plain": [
              "(405, 1)"
            ]
          },
          "metadata": {
            "tags": []
          },
          "execution_count": 56
        }
      ]
    },
    {
      "metadata": {
        "id": "4VRxW6oEvQ7D",
        "colab_type": "code",
        "colab": {}
      },
      "cell_type": "code",
      "source": [
        "k = 5\n",
        "batch_size = len(x_vals_test)"
      ],
      "execution_count": 0,
      "outputs": []
    },
    {
      "metadata": {
        "id": "aOSUopFjvQ7F",
        "colab_type": "code",
        "colab": {}
      },
      "cell_type": "code",
      "source": [
        "#create the placeholders\n",
        "\n",
        "x_data_train = tf.placeholder(shape = [None, features], dtype= tf.float32)\n",
        "x_data_test = tf.placeholder(shape=[None, features], dtype=tf.float32)\n",
        "y_target_train = tf.placeholder(shape=[None, 1], dtype=tf.float32)\n",
        "y_target_test = tf.placeholder(shape=[None, 1], dtype=tf.float32)"
      ],
      "execution_count": 0,
      "outputs": []
    },
    {
      "metadata": {
        "id": "9VGGSzOWvQ7K",
        "colab_type": "code",
        "colab": {},
        "outputId": "cbf12943-5344-4fb4-f3c1-a8e8c2c08372"
      },
      "cell_type": "code",
      "source": [
        "print(x_data_train.shape)\n",
        "print(x_data_test.shape)"
      ],
      "execution_count": 0,
      "outputs": [
        {
          "output_type": "stream",
          "text": [
            "(?, 10)\n",
            "(?, 10)\n"
          ],
          "name": "stdout"
        }
      ]
    },
    {
      "metadata": {
        "id": "8xjbKkq8vQ7P",
        "colab_type": "code",
        "colab": {}
      },
      "cell_type": "code",
      "source": [
        "distance = tf.reduce_sum(tf.abs(tf.subtract(x_data_train, tf.expand_dims(x_data_test,1))), axis=2)"
      ],
      "execution_count": 0,
      "outputs": []
    },
    {
      "metadata": {
        "id": "Jt979enPvQ7R",
        "colab_type": "code",
        "colab": {},
        "outputId": "c93923e0-b6e6-4e45-ee3a-72bc76aff8b8"
      },
      "cell_type": "code",
      "source": [
        "#prediction = tf.arg_min(distance, 0)\n",
        "top_k_xvals, top_k_indices = tf.nn.top_k(tf.negative(distance), k=k)\n",
        "x_sums = tf.expand_dims(tf.reduce_sum(top_k_xvals, 1),1)\n",
        "x_sums_repeated = tf.matmul(x_sums,tf.ones([1, k], tf.float32))\n",
        "x_val_weights = tf.expand_dims(tf.div(top_k_xvals,x_sums_repeated), 1)\n",
        "\n",
        "top_k_yvals = tf.gather(y_target_train, top_k_indices)\n",
        "prediction = tf.squeeze(tf.matmul(x_val_weights,top_k_yvals), axis=[1])\n",
        "#prediction = tf.reduce_mean(top_k_yvals, 1)\n",
        "\n",
        "# Calculate MSE\n",
        "mse = tf.div(tf.reduce_sum(tf.square(tf.subtract(prediction, y_target_test))), batch_size)\n",
        "\n",
        "# Calculate how many loops over training data\n",
        "num_loops = int(np.ceil(len(x_vals_test)/batch_size))\n",
        "\n",
        "for i in range(num_loops):\n",
        "    min_index = i*batch_size\n",
        "    max_index = min((i+1)*batch_size,len(x_vals_train))\n",
        "    x_batch = x_vals_test[min_index:max_index]\n",
        "    y_batch = y_vals_test[min_index:max_index]\n",
        "    predictions = sess.run(prediction, feed_dict={x_data_train: x_vals_train, x_data_test: x_batch,\n",
        "                                         y_target_train: y_vals_train, y_target_test: y_batch})\n",
        "    batch_mse = sess.run(mse, feed_dict={x_data_train: x_vals_train, x_data_test: x_batch,\n",
        "                                         y_target_train: y_vals_train, y_target_test: y_batch})\n",
        "\n",
        "    print('Batch #' + str(i+1) + ' MSE: ' + str(np.round(batch_mse,3)))\n"
      ],
      "execution_count": 0,
      "outputs": [
        {
          "output_type": "stream",
          "text": [
            "Batch #1 MSE: 20.343\n"
          ],
          "name": "stdout"
        }
      ]
    },
    {
      "metadata": {
        "id": "l3wMVMctvQ7V",
        "colab_type": "code",
        "colab": {},
        "outputId": "e5bf84e9-dbf4-44f4-bcd4-e48d4492b643"
      },
      "cell_type": "code",
      "source": [
        "%matplotlib inline\n",
        "# Plot prediction and actual distribution\n",
        "bins = np.linspace(5, 50, 45)\n",
        "\n",
        "plt.hist(predictions, bins, alpha=0.5, label='Prediction')\n",
        "plt.hist(y_batch, bins, alpha=0.5, label='Actual')\n",
        "plt.title('Histogram of Predicted and Actual Values')\n",
        "plt.xlabel('Med Home Value in $1,000s')\n",
        "plt.ylabel('Frequency')\n",
        "plt.legend(loc='upper right')\n",
        "plt.show()"
      ],
      "execution_count": 0,
      "outputs": [
        {
          "output_type": "display_data",
          "data": {
            "image/png": "[encoded data removed]",
            "text/plain": [
              "<Figure size 432x288 with 1 Axes>"
            ]
          },
          "metadata": {
            "tags": []
          }
        }
      ]
    },
    {
      "metadata": {
        "id": "f5m_-ZfbvQ7c",
        "colab_type": "code",
        "colab": {}
      },
      "cell_type": "code",
      "source": [
        ""
      ],
      "execution_count": 0,
      "outputs": []
    }
  ]
}