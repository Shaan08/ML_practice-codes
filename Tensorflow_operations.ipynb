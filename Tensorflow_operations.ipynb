{
  "nbformat": 4,
  "nbformat_minor": 0,
  "metadata": {
    "colab": {
      "name": "Tensorflow operations.ipynb",
      "version": "0.3.2",
      "provenance": [],
      "include_colab_link": true
    },
    "kernelspec": {
      "display_name": "Python 3",
      "language": "python",
      "name": "python3"
    }
  },
  "cells": [
    {
      "cell_type": "markdown",
      "metadata": {
        "id": "view-in-github",
        "colab_type": "text"
      },
      "source": [
        "[View in Colaboratory](https://colab.research.google.com/github/findingfoot/ML_practice-codes/blob/master/Tensorflow_operations.ipynb)"
      ]
    },
    {
      "metadata": {
        "id": "6z37g6sGylRE",
        "colab_type": "code",
        "colab": {}
      },
      "cell_type": "code",
      "source": [
        "import matplotlib.pyplot as plt\n",
        "import numpy as np\n",
        "import tensorflow as tf\n",
        "from tensorflow.python.framework import ops\n",
        "ops.reset_default_graph()\n",
        "\n",
        "import warnings\n",
        "warnings.filterwarnings('ignore')\n",
        "\n",
        "sess = tf.Session()"
      ],
      "execution_count": 0,
      "outputs": []
    },
    {
      "metadata": {
        "id": "OW0oE_GSylRI",
        "colab_type": "code",
        "colab": {},
        "outputId": "92f3105e-8a99-41fb-8f72-bf944a3ff978"
      },
      "cell_type": "code",
      "source": [
        "print(sess.run(tf.div(14,23))) #integer division\n",
        "print(sess.run(tf.truediv(14,23))) # convert integers to float\n",
        "print(sess.run(tf.floordiv(14.0,23.0))) #float div\n",
        "\n",
        "print(sess.run(tf.mod(44.0,23)))\n",
        "\n",
        "\n",
        "print(sess.run(tf.cross([3,5,1],[32,4,5])))"
      ],
      "execution_count": 0,
      "outputs": [
        {
          "output_type": "stream",
          "text": [
            "0\n",
            "0.6086956521739131\n",
            "0.0\n",
            "21.0\n",
            "[  21   17 -148]\n"
          ],
          "name": "stdout"
        }
      ]
    },
    {
      "metadata": {
        "id": "kBJ72jMjylRM",
        "colab_type": "code",
        "colab": {},
        "outputId": "e3348505-502c-4e9d-8645-859e50870b94"
      },
      "cell_type": "code",
      "source": [
        "print(sess.run(tf.sin(3.14)))\n",
        "print(sess.run(tf.cos(3.14)))\n",
        "print(sess.run(tf.div(tf.sin(3.1416/4.), tf.cos(3.1416/4.))))"
      ],
      "execution_count": 0,
      "outputs": [
        {
          "output_type": "stream",
          "text": [
            "0.001592548\n",
            "-0.99999875\n",
            "1.0000036\n"
          ],
          "name": "stdout"
        }
      ]
    },
    {
      "metadata": {
        "id": "xM-5qBdCylRQ",
        "colab_type": "code",
        "colab": {},
        "outputId": "c2a3dbf6-fb3a-4e06-b5b8-658ab9003820"
      },
      "cell_type": "code",
      "source": [
        "def custom_pol(number):\n",
        "    return (tf.subtract(3 * tf.square(number), number) + 10)\n",
        "\n",
        "print(sess.run(custom_pol(14)))"
      ],
      "execution_count": 0,
      "outputs": [
        {
          "output_type": "stream",
          "text": [
            "584\n"
          ],
          "name": "stdout"
        }
      ]
    },
    {
      "metadata": {
        "id": "ynlbGBaqylRU",
        "colab_type": "code",
        "colab": {},
        "outputId": "216f3199-268f-4097-cd8b-fca22491f2e4"
      },
      "cell_type": "code",
      "source": [
        "number_range = range(10)\n",
        "pol_value = [ 3*x*x - x + 10 for x in number_range]\n",
        "print(pol_value)"
      ],
      "execution_count": 0,
      "outputs": [
        {
          "output_type": "stream",
          "text": [
            "[10, 12, 20, 34, 54, 80, 112, 150, 194, 244]\n"
          ],
          "name": "stdout"
        }
      ]
    },
    {
      "metadata": {
        "id": "7qQYD86MylRY",
        "colab_type": "code",
        "colab": {},
        "outputId": "e8ddb50e-c927-4f80-8301-f1f945b61bc4"
      },
      "cell_type": "code",
      "source": [
        "for num in number_range:\n",
        "    print(sess.run(custom_pol(num)))"
      ],
      "execution_count": 0,
      "outputs": [
        {
          "output_type": "stream",
          "text": [
            "10\n",
            "12\n",
            "20\n",
            "34\n",
            "54\n",
            "80\n",
            "112\n",
            "150\n",
            "194\n",
            "244\n"
          ],
          "name": "stdout"
        }
      ]
    },
    {
      "metadata": {
        "id": "4hODS3vIylRc",
        "colab_type": "code",
        "colab": {}
      },
      "cell_type": "code",
      "source": [
        ""
      ],
      "execution_count": 0,
      "outputs": []
    }
  ]
}