{
  "nbformat": 4,
  "nbformat_minor": 0,
  "metadata": {
    "colab": {
      "name": "Operations with tensorboard graph.ipynb",
      "version": "0.3.2",
      "provenance": [],
      "include_colab_link": true
    },
    "kernelspec": {
      "display_name": "Python 3",
      "language": "python",
      "name": "python3"
    }
  },
  "cells": [
    {
      "cell_type": "markdown",
      "metadata": {
        "id": "view-in-github",
        "colab_type": "text"
      },
      "source": [
        "[View in Colaboratory](https://colab.research.google.com/github/findingfoot/ML_practice-codes/blob/master/Operations_with_tensorboard_graph.ipynb)"
      ]
    },
    {
      "metadata": {
        "id": "lJY4INNNip89",
        "colab_type": "code",
        "colab": {}
      },
      "cell_type": "code",
      "source": [
        "import os\n",
        "import tensorflow as tf\n",
        "import numpy as np\n",
        "import matplotlib.pyplot as plt\n",
        "\n",
        "from tensorflow.python.framework import ops\n",
        "ops.reset_default_graph()\n",
        "import warnings\n",
        "warnings.filterwarnings('ignore')\n",
        "\n",
        "sess= tf.Session()"
      ],
      "execution_count": 0,
      "outputs": []
    },
    {
      "metadata": {
        "id": "NLdVB2kGip9B",
        "colab_type": "code",
        "colab": {}
      },
      "cell_type": "code",
      "source": [
        "x_vals = np.array([1.,5.,7.,2.,9.])\n",
        "\n",
        "x_data = tf.placeholder(tf.float32)\n",
        "\n",
        "const = tf.constant(4.)"
      ],
      "execution_count": 0,
      "outputs": []
    },
    {
      "metadata": {
        "id": "ic7msuzpip9E",
        "colab_type": "code",
        "colab": {
          "base_uri": "https://localhost:8080/",
          "height": 102
        },
        "outputId": "6c540fbd-977f-4bea-d218-d8d0f50dd87b"
      },
      "cell_type": "code",
      "source": [
        "#multiply\n",
        "prod = tf.multiply(x_data, const)\n",
        "for num in x_vals:\n",
        "    print(sess.run(prod, feed_dict={x_data: num}))"
      ],
      "execution_count": 4,
      "outputs": [
        {
          "output_type": "stream",
          "text": [
            "4.0\n",
            "20.0\n",
            "28.0\n",
            "8.0\n",
            "36.0\n"
          ],
          "name": "stdout"
        }
      ]
    },
    {
      "metadata": {
        "id": "v9EYhnPtip9J",
        "colab_type": "code",
        "colab": {}
      },
      "cell_type": "code",
      "source": [
        "# create a tensorboard\n",
        "merged = tf.summary.merge_all(key='summaries')\n",
        "\n",
        "if not os.path.exists('tensorboard_logs/'):\n",
        "    os.makedirs('tensorboard_logs/')\n",
        "    \n",
        "writer = tf.summary.FileWriter('tensorboard_logs', sess.graph)"
      ],
      "execution_count": 0,
      "outputs": []
    },
    {
      "metadata": {
        "id": "EOkFLpLVip9M",
        "colab_type": "code",
        "colab": {}
      },
      "cell_type": "code",
      "source": [
        ""
      ],
      "execution_count": 0,
      "outputs": []
    }
  ]
}